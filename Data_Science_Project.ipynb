{
 "cells": [
  {
   "cell_type": "code",
   "execution_count": 1,
   "metadata": {},
   "outputs": [],
   "source": [
    "import pandas as pd\n",
    "import numpy as np\n",
    "import matplotlib.pyplot as plt\n",
    "from sklearn.linear_model import LinearRegression\n",
    "from sklearn.pipeline import Pipeline\n",
    "from sklearn.preprocessing import StandardScaler\n",
    "import seaborn as sns\n",
    "%matplotlib inline"
   ]
  },
  {
   "cell_type": "code",
   "execution_count": 2,
   "metadata": {},
   "outputs": [
    {
     "name": "stdout",
     "output_type": "stream",
     "text": [
      "(2499, 12)\n",
      "----------------------------------------------------------------------------------------------------\n",
      "Index(['price', 'brand', 'model', 'year', 'title_status', 'mileage', 'color',\n",
      "       'vin', 'lot', 'state', 'country', 'condition'],\n",
      "      dtype='object')\n",
      "----------------------------------------------------------------------------------------------------\n",
      "[2008 2011 2018 2014 2010 2017 2009 2013 2015 2020 2016 1973 2003 2019\n",
      " 2002 2000 2001 2005 2012 2006 2007 1998 2004 1994 1997 1996 1999 1984\n",
      " 1995 1993]\n",
      "----------------------------------------------------------------------------------------------------\n"
     ]
    },
    {
     "data": {
      "text/html": [
       "<div>\n",
       "<style scoped>\n",
       "    .dataframe tbody tr th:only-of-type {\n",
       "        vertical-align: middle;\n",
       "    }\n",
       "\n",
       "    .dataframe tbody tr th {\n",
       "        vertical-align: top;\n",
       "    }\n",
       "\n",
       "    .dataframe thead th {\n",
       "        text-align: right;\n",
       "    }\n",
       "</style>\n",
       "<table border=\"1\" class=\"dataframe\">\n",
       "  <thead>\n",
       "    <tr style=\"text-align: right;\">\n",
       "      <th></th>\n",
       "      <th>price</th>\n",
       "      <th>brand</th>\n",
       "      <th>model</th>\n",
       "      <th>year</th>\n",
       "      <th>title_status</th>\n",
       "      <th>mileage</th>\n",
       "      <th>color</th>\n",
       "      <th>vin</th>\n",
       "      <th>lot</th>\n",
       "      <th>state</th>\n",
       "      <th>country</th>\n",
       "      <th>condition</th>\n",
       "    </tr>\n",
       "  </thead>\n",
       "  <tbody>\n",
       "    <tr>\n",
       "      <th>0</th>\n",
       "      <td>6300</td>\n",
       "      <td>toyota</td>\n",
       "      <td>cruiser</td>\n",
       "      <td>2008</td>\n",
       "      <td>clean vehicle</td>\n",
       "      <td>274117.0</td>\n",
       "      <td>black</td>\n",
       "      <td>jtezu11f88k007763</td>\n",
       "      <td>159348797</td>\n",
       "      <td>new jersey</td>\n",
       "      <td>usa</td>\n",
       "      <td>10 days left</td>\n",
       "    </tr>\n",
       "    <tr>\n",
       "      <th>1</th>\n",
       "      <td>2899</td>\n",
       "      <td>ford</td>\n",
       "      <td>se</td>\n",
       "      <td>2011</td>\n",
       "      <td>clean vehicle</td>\n",
       "      <td>190552.0</td>\n",
       "      <td>silver</td>\n",
       "      <td>2fmdk3gc4bbb02217</td>\n",
       "      <td>166951262</td>\n",
       "      <td>tennessee</td>\n",
       "      <td>usa</td>\n",
       "      <td>6 days left</td>\n",
       "    </tr>\n",
       "    <tr>\n",
       "      <th>2</th>\n",
       "      <td>5350</td>\n",
       "      <td>dodge</td>\n",
       "      <td>mpv</td>\n",
       "      <td>2018</td>\n",
       "      <td>clean vehicle</td>\n",
       "      <td>39590.0</td>\n",
       "      <td>silver</td>\n",
       "      <td>3c4pdcgg5jt346413</td>\n",
       "      <td>167655728</td>\n",
       "      <td>georgia</td>\n",
       "      <td>usa</td>\n",
       "      <td>2 days left</td>\n",
       "    </tr>\n",
       "    <tr>\n",
       "      <th>3</th>\n",
       "      <td>25000</td>\n",
       "      <td>ford</td>\n",
       "      <td>door</td>\n",
       "      <td>2014</td>\n",
       "      <td>clean vehicle</td>\n",
       "      <td>64146.0</td>\n",
       "      <td>blue</td>\n",
       "      <td>1ftfw1et4efc23745</td>\n",
       "      <td>167753855</td>\n",
       "      <td>virginia</td>\n",
       "      <td>usa</td>\n",
       "      <td>22 hours left</td>\n",
       "    </tr>\n",
       "    <tr>\n",
       "      <th>4</th>\n",
       "      <td>27700</td>\n",
       "      <td>chevrolet</td>\n",
       "      <td>1500</td>\n",
       "      <td>2018</td>\n",
       "      <td>clean vehicle</td>\n",
       "      <td>6654.0</td>\n",
       "      <td>red</td>\n",
       "      <td>3gcpcrec2jg473991</td>\n",
       "      <td>167763266</td>\n",
       "      <td>florida</td>\n",
       "      <td>usa</td>\n",
       "      <td>22 hours left</td>\n",
       "    </tr>\n",
       "  </tbody>\n",
       "</table>\n",
       "</div>"
      ],
      "text/plain": [
       "   price      brand    model  year   title_status   mileage   color  \\\n",
       "0   6300     toyota  cruiser  2008  clean vehicle  274117.0   black   \n",
       "1   2899       ford       se  2011  clean vehicle  190552.0  silver   \n",
       "2   5350      dodge      mpv  2018  clean vehicle   39590.0  silver   \n",
       "3  25000       ford     door  2014  clean vehicle   64146.0    blue   \n",
       "4  27700  chevrolet     1500  2018  clean vehicle    6654.0     red   \n",
       "\n",
       "                   vin        lot       state country      condition  \n",
       "0    jtezu11f88k007763  159348797  new jersey     usa   10 days left  \n",
       "1    2fmdk3gc4bbb02217  166951262   tennessee     usa    6 days left  \n",
       "2    3c4pdcgg5jt346413  167655728     georgia     usa    2 days left  \n",
       "3    1ftfw1et4efc23745  167753855    virginia     usa  22 hours left  \n",
       "4    3gcpcrec2jg473991  167763266     florida     usa  22 hours left  "
      ]
     },
     "execution_count": 2,
     "metadata": {},
     "output_type": "execute_result"
    }
   ],
   "source": [
    "# Topic: Predictive Analysis of Car Price in USA\n",
    "# Data source: USA_cars_datasets was gotten from Kaggle website.\n",
    "# The Data comprises of 2499 observations and 12 variables from 1973 to 2020.\n",
    "# The price (car price) is the response variable and it is in dollars.\n",
    "\n",
    "df = pd.read_csv(\"USA_cars_datasets.csv\")\n",
    "df = df.iloc[:,1:]\n",
    "\n",
    "print(df.shape)\n",
    "print('-'*100) \n",
    "print(df.columns)\n",
    "print('-'*100) \n",
    "print(df[\"year\"].unique())\n",
    "print('-'*100)\n",
    "df.head()"
   ]
  },
  {
   "cell_type": "code",
   "execution_count": 3,
   "metadata": {},
   "outputs": [
    {
     "name": "stdout",
     "output_type": "stream",
     "text": [
      "(2499, 9)\n"
     ]
    },
    {
     "data": {
      "text/html": [
       "<div>\n",
       "<style scoped>\n",
       "    .dataframe tbody tr th:only-of-type {\n",
       "        vertical-align: middle;\n",
       "    }\n",
       "\n",
       "    .dataframe tbody tr th {\n",
       "        vertical-align: top;\n",
       "    }\n",
       "\n",
       "    .dataframe thead th {\n",
       "        text-align: right;\n",
       "    }\n",
       "</style>\n",
       "<table border=\"1\" class=\"dataframe\">\n",
       "  <thead>\n",
       "    <tr style=\"text-align: right;\">\n",
       "      <th></th>\n",
       "      <th>price</th>\n",
       "      <th>brand</th>\n",
       "      <th>model</th>\n",
       "      <th>year</th>\n",
       "      <th>title_status</th>\n",
       "      <th>mileage</th>\n",
       "      <th>color</th>\n",
       "      <th>lot</th>\n",
       "      <th>state</th>\n",
       "    </tr>\n",
       "  </thead>\n",
       "  <tbody>\n",
       "    <tr>\n",
       "      <th>0</th>\n",
       "      <td>6300</td>\n",
       "      <td>toyota</td>\n",
       "      <td>cruiser</td>\n",
       "      <td>2008</td>\n",
       "      <td>clean vehicle</td>\n",
       "      <td>274117.0</td>\n",
       "      <td>black</td>\n",
       "      <td>159348797</td>\n",
       "      <td>new jersey</td>\n",
       "    </tr>\n",
       "    <tr>\n",
       "      <th>1</th>\n",
       "      <td>2899</td>\n",
       "      <td>ford</td>\n",
       "      <td>se</td>\n",
       "      <td>2011</td>\n",
       "      <td>clean vehicle</td>\n",
       "      <td>190552.0</td>\n",
       "      <td>silver</td>\n",
       "      <td>166951262</td>\n",
       "      <td>tennessee</td>\n",
       "    </tr>\n",
       "    <tr>\n",
       "      <th>2</th>\n",
       "      <td>5350</td>\n",
       "      <td>dodge</td>\n",
       "      <td>mpv</td>\n",
       "      <td>2018</td>\n",
       "      <td>clean vehicle</td>\n",
       "      <td>39590.0</td>\n",
       "      <td>silver</td>\n",
       "      <td>167655728</td>\n",
       "      <td>georgia</td>\n",
       "    </tr>\n",
       "    <tr>\n",
       "      <th>3</th>\n",
       "      <td>25000</td>\n",
       "      <td>ford</td>\n",
       "      <td>door</td>\n",
       "      <td>2014</td>\n",
       "      <td>clean vehicle</td>\n",
       "      <td>64146.0</td>\n",
       "      <td>blue</td>\n",
       "      <td>167753855</td>\n",
       "      <td>virginia</td>\n",
       "    </tr>\n",
       "    <tr>\n",
       "      <th>4</th>\n",
       "      <td>27700</td>\n",
       "      <td>chevrolet</td>\n",
       "      <td>1500</td>\n",
       "      <td>2018</td>\n",
       "      <td>clean vehicle</td>\n",
       "      <td>6654.0</td>\n",
       "      <td>red</td>\n",
       "      <td>167763266</td>\n",
       "      <td>florida</td>\n",
       "    </tr>\n",
       "  </tbody>\n",
       "</table>\n",
       "</div>"
      ],
      "text/plain": [
       "   price      brand    model  year   title_status   mileage   color  \\\n",
       "0   6300     toyota  cruiser  2008  clean vehicle  274117.0   black   \n",
       "1   2899       ford       se  2011  clean vehicle  190552.0  silver   \n",
       "2   5350      dodge      mpv  2018  clean vehicle   39590.0  silver   \n",
       "3  25000       ford     door  2014  clean vehicle   64146.0    blue   \n",
       "4  27700  chevrolet     1500  2018  clean vehicle    6654.0     red   \n",
       "\n",
       "         lot       state  \n",
       "0  159348797  new jersey  \n",
       "1  166951262   tennessee  \n",
       "2  167655728     georgia  \n",
       "3  167753855    virginia  \n",
       "4  167763266     florida  "
      ]
     },
     "execution_count": 3,
     "metadata": {},
     "output_type": "execute_result"
    }
   ],
   "source": [
    "# selecting useful colnums for my analysis\n",
    "\n",
    "df1 = df.iloc[0:2499,[0,1,2,3,4,5,6,8,9]]\n",
    "print(df1.shape)\n",
    "df1.head()\n"
   ]
  },
  {
   "cell_type": "code",
   "execution_count": 4,
   "metadata": {},
   "outputs": [],
   "source": [
    "#1.Inspection\n",
    "# a) Taking a quick view of the entire data sets\n",
    "# b) The distribution of car price across the states (Objective: To know which state is driving price)\n",
    "# c) The distribution of car price across the different brands (Objective: To know which brab is driving price)\n",
    "# d) The distribution of car price across the different colours (Objective: To know which colour is driving price)\n",
    "# e) The distribution of car price across the different models (Objective: To know which car model is driving price)\n",
    "# f) The distribution of car price across the millage (Objective: To know the average price per millage, put millage in bins)\n",
    "# g) The distribution of car price across the different years (Objective: To know which year is driving price)\n",
    "\n",
    "\n",
    "#2\n",
    "#Visualization\n",
    "\n",
    "# a) Histograms of the qualitative covariates: Objective- As in no 1\n",
    "# b) Bar plots of the qualitative covariates:  Objective- As in no 1\n",
    "# c) Scatter plots of my quantitative covariates vs respnse(price) Objective: To know how each variable can enter the model\n",
    "# d) Boxplots of the qualitative covariates vs price. Objective: To know which of them should enter the model\n",
    "\n",
    "#3\n",
    "# Fitting models\n",
    "# Multiple Linear Regression\n",
    "# Polynomial Regression\n",
    "\n",
    "#4 \n",
    "# Model validation\n",
    "# R^2 / R-squared\n",
    "# Mean Squared Error (MSE)"
   ]
  },
  {
   "cell_type": "code",
   "execution_count": 5,
   "metadata": {},
   "outputs": [
    {
     "name": "stdout",
     "output_type": "stream",
     "text": [
      "price             int64\n",
      "brand            object\n",
      "model            object\n",
      "year              int64\n",
      "title_status     object\n",
      "mileage         float64\n",
      "color            object\n",
      "lot               int64\n",
      "state            object\n",
      "dtype: object\n",
      "----------------------------------------------------------------------------------------------------\n",
      "\n"
     ]
    },
    {
     "data": {
      "text/html": [
       "<div>\n",
       "<style scoped>\n",
       "    .dataframe tbody tr th:only-of-type {\n",
       "        vertical-align: middle;\n",
       "    }\n",
       "\n",
       "    .dataframe tbody tr th {\n",
       "        vertical-align: top;\n",
       "    }\n",
       "\n",
       "    .dataframe thead th {\n",
       "        text-align: right;\n",
       "    }\n",
       "</style>\n",
       "<table border=\"1\" class=\"dataframe\">\n",
       "  <thead>\n",
       "    <tr style=\"text-align: right;\">\n",
       "      <th></th>\n",
       "      <th>price</th>\n",
       "      <th>brand</th>\n",
       "      <th>model</th>\n",
       "      <th>year</th>\n",
       "      <th>title_status</th>\n",
       "      <th>mileage</th>\n",
       "      <th>color</th>\n",
       "      <th>lot</th>\n",
       "      <th>state</th>\n",
       "    </tr>\n",
       "  </thead>\n",
       "  <tbody>\n",
       "    <tr>\n",
       "      <th>count</th>\n",
       "      <td>2499.000000</td>\n",
       "      <td>2499</td>\n",
       "      <td>2499</td>\n",
       "      <td>2499.000000</td>\n",
       "      <td>2499</td>\n",
       "      <td>2.499000e+03</td>\n",
       "      <td>2499</td>\n",
       "      <td>2.499000e+03</td>\n",
       "      <td>2499</td>\n",
       "    </tr>\n",
       "    <tr>\n",
       "      <th>unique</th>\n",
       "      <td>NaN</td>\n",
       "      <td>28</td>\n",
       "      <td>127</td>\n",
       "      <td>NaN</td>\n",
       "      <td>2</td>\n",
       "      <td>NaN</td>\n",
       "      <td>49</td>\n",
       "      <td>NaN</td>\n",
       "      <td>44</td>\n",
       "    </tr>\n",
       "    <tr>\n",
       "      <th>top</th>\n",
       "      <td>NaN</td>\n",
       "      <td>ford</td>\n",
       "      <td>door</td>\n",
       "      <td>NaN</td>\n",
       "      <td>clean vehicle</td>\n",
       "      <td>NaN</td>\n",
       "      <td>white</td>\n",
       "      <td>NaN</td>\n",
       "      <td>pennsylvania</td>\n",
       "    </tr>\n",
       "    <tr>\n",
       "      <th>freq</th>\n",
       "      <td>NaN</td>\n",
       "      <td>1235</td>\n",
       "      <td>651</td>\n",
       "      <td>NaN</td>\n",
       "      <td>2336</td>\n",
       "      <td>NaN</td>\n",
       "      <td>707</td>\n",
       "      <td>NaN</td>\n",
       "      <td>299</td>\n",
       "    </tr>\n",
       "    <tr>\n",
       "      <th>mean</th>\n",
       "      <td>18767.671469</td>\n",
       "      <td>NaN</td>\n",
       "      <td>NaN</td>\n",
       "      <td>2016.714286</td>\n",
       "      <td>NaN</td>\n",
       "      <td>5.229869e+04</td>\n",
       "      <td>NaN</td>\n",
       "      <td>1.676914e+08</td>\n",
       "      <td>NaN</td>\n",
       "    </tr>\n",
       "    <tr>\n",
       "      <th>std</th>\n",
       "      <td>12116.094936</td>\n",
       "      <td>NaN</td>\n",
       "      <td>NaN</td>\n",
       "      <td>3.442656</td>\n",
       "      <td>NaN</td>\n",
       "      <td>5.970552e+04</td>\n",
       "      <td>NaN</td>\n",
       "      <td>2.038772e+05</td>\n",
       "      <td>NaN</td>\n",
       "    </tr>\n",
       "    <tr>\n",
       "      <th>min</th>\n",
       "      <td>0.000000</td>\n",
       "      <td>NaN</td>\n",
       "      <td>NaN</td>\n",
       "      <td>1973.000000</td>\n",
       "      <td>NaN</td>\n",
       "      <td>0.000000e+00</td>\n",
       "      <td>NaN</td>\n",
       "      <td>1.593488e+08</td>\n",
       "      <td>NaN</td>\n",
       "    </tr>\n",
       "    <tr>\n",
       "      <th>25%</th>\n",
       "      <td>10200.000000</td>\n",
       "      <td>NaN</td>\n",
       "      <td>NaN</td>\n",
       "      <td>2016.000000</td>\n",
       "      <td>NaN</td>\n",
       "      <td>2.146650e+04</td>\n",
       "      <td>NaN</td>\n",
       "      <td>1.676253e+08</td>\n",
       "      <td>NaN</td>\n",
       "    </tr>\n",
       "    <tr>\n",
       "      <th>50%</th>\n",
       "      <td>16900.000000</td>\n",
       "      <td>NaN</td>\n",
       "      <td>NaN</td>\n",
       "      <td>2018.000000</td>\n",
       "      <td>NaN</td>\n",
       "      <td>3.536500e+04</td>\n",
       "      <td>NaN</td>\n",
       "      <td>1.677451e+08</td>\n",
       "      <td>NaN</td>\n",
       "    </tr>\n",
       "    <tr>\n",
       "      <th>75%</th>\n",
       "      <td>25555.500000</td>\n",
       "      <td>NaN</td>\n",
       "      <td>NaN</td>\n",
       "      <td>2019.000000</td>\n",
       "      <td>NaN</td>\n",
       "      <td>6.347250e+04</td>\n",
       "      <td>NaN</td>\n",
       "      <td>1.677798e+08</td>\n",
       "      <td>NaN</td>\n",
       "    </tr>\n",
       "    <tr>\n",
       "      <th>max</th>\n",
       "      <td>84900.000000</td>\n",
       "      <td>NaN</td>\n",
       "      <td>NaN</td>\n",
       "      <td>2020.000000</td>\n",
       "      <td>NaN</td>\n",
       "      <td>1.017936e+06</td>\n",
       "      <td>NaN</td>\n",
       "      <td>1.678055e+08</td>\n",
       "      <td>NaN</td>\n",
       "    </tr>\n",
       "  </tbody>\n",
       "</table>\n",
       "</div>"
      ],
      "text/plain": [
       "               price brand model         year   title_status       mileage  \\\n",
       "count    2499.000000  2499  2499  2499.000000           2499  2.499000e+03   \n",
       "unique           NaN    28   127          NaN              2           NaN   \n",
       "top              NaN  ford  door          NaN  clean vehicle           NaN   \n",
       "freq             NaN  1235   651          NaN           2336           NaN   \n",
       "mean    18767.671469   NaN   NaN  2016.714286            NaN  5.229869e+04   \n",
       "std     12116.094936   NaN   NaN     3.442656            NaN  5.970552e+04   \n",
       "min         0.000000   NaN   NaN  1973.000000            NaN  0.000000e+00   \n",
       "25%     10200.000000   NaN   NaN  2016.000000            NaN  2.146650e+04   \n",
       "50%     16900.000000   NaN   NaN  2018.000000            NaN  3.536500e+04   \n",
       "75%     25555.500000   NaN   NaN  2019.000000            NaN  6.347250e+04   \n",
       "max     84900.000000   NaN   NaN  2020.000000            NaN  1.017936e+06   \n",
       "\n",
       "        color           lot         state  \n",
       "count    2499  2.499000e+03          2499  \n",
       "unique     49           NaN            44  \n",
       "top     white           NaN  pennsylvania  \n",
       "freq      707           NaN           299  \n",
       "mean      NaN  1.676914e+08           NaN  \n",
       "std       NaN  2.038772e+05           NaN  \n",
       "min       NaN  1.593488e+08           NaN  \n",
       "25%       NaN  1.676253e+08           NaN  \n",
       "50%       NaN  1.677451e+08           NaN  \n",
       "75%       NaN  1.677798e+08           NaN  \n",
       "max       NaN  1.678055e+08           NaN  "
      ]
     },
     "execution_count": 5,
     "metadata": {},
     "output_type": "execute_result"
    }
   ],
   "source": [
    "# a) Taking a quick view of the entire data sets\n",
    "print(df1.dtypes)\n",
    "print('-'*100)\n",
    "print(''*100)\n",
    "\n",
    "df1.describe(include = \"all\")\n"
   ]
  },
  {
   "cell_type": "code",
   "execution_count": 6,
   "metadata": {},
   "outputs": [
    {
     "name": "stdout",
     "output_type": "stream",
     "text": [
      "              num_cars  num_cars(%)  total_car_price  mean_car_price  \\\n",
      "state                                                                  \n",
      "pennsylvania       299     0.119648          6820253    22810.210702   \n",
      "florida            246     0.098439          3708605    15075.630081   \n",
      "texas              214     0.085634          2911962    13607.299065   \n",
      "\n",
      "              median_car_price  \n",
      "state                           \n",
      "pennsylvania             21000  \n",
      "florida                  12530  \n",
      "texas                    10340  \n"
     ]
    },
    {
     "data": {
      "text/html": [
       "<div>\n",
       "<style scoped>\n",
       "    .dataframe tbody tr th:only-of-type {\n",
       "        vertical-align: middle;\n",
       "    }\n",
       "\n",
       "    .dataframe tbody tr th {\n",
       "        vertical-align: top;\n",
       "    }\n",
       "\n",
       "    .dataframe thead th {\n",
       "        text-align: right;\n",
       "    }\n",
       "</style>\n",
       "<table border=\"1\" class=\"dataframe\">\n",
       "  <thead>\n",
       "    <tr style=\"text-align: right;\">\n",
       "      <th></th>\n",
       "      <th>num_cars</th>\n",
       "      <th>num_cars(%)</th>\n",
       "      <th>total_car_price</th>\n",
       "      <th>mean_car_price</th>\n",
       "      <th>median_car_price</th>\n",
       "    </tr>\n",
       "    <tr>\n",
       "      <th>state</th>\n",
       "      <th></th>\n",
       "      <th></th>\n",
       "      <th></th>\n",
       "      <th></th>\n",
       "      <th></th>\n",
       "    </tr>\n",
       "  </thead>\n",
       "  <tbody>\n",
       "    <tr>\n",
       "      <th>pennsylvania</th>\n",
       "      <td>299</td>\n",
       "      <td>0.119648</td>\n",
       "      <td>6820253</td>\n",
       "      <td>22810.210702</td>\n",
       "      <td>21000</td>\n",
       "    </tr>\n",
       "    <tr>\n",
       "      <th>michigan</th>\n",
       "      <td>169</td>\n",
       "      <td>0.067627</td>\n",
       "      <td>4039070</td>\n",
       "      <td>23899.822485</td>\n",
       "      <td>25000</td>\n",
       "    </tr>\n",
       "    <tr>\n",
       "      <th>florida</th>\n",
       "      <td>246</td>\n",
       "      <td>0.098439</td>\n",
       "      <td>3708605</td>\n",
       "      <td>15075.630081</td>\n",
       "      <td>12530</td>\n",
       "    </tr>\n",
       "  </tbody>\n",
       "</table>\n",
       "</div>"
      ],
      "text/plain": [
       "              num_cars  num_cars(%)  total_car_price  mean_car_price  \\\n",
       "state                                                                  \n",
       "pennsylvania       299     0.119648          6820253    22810.210702   \n",
       "michigan           169     0.067627          4039070    23899.822485   \n",
       "florida            246     0.098439          3708605    15075.630081   \n",
       "\n",
       "              median_car_price  \n",
       "state                           \n",
       "pennsylvania             21000  \n",
       "michigan                 25000  \n",
       "florida                  12530  "
      ]
     },
     "execution_count": 6,
     "metadata": {},
     "output_type": "execute_result"
    }
   ],
   "source": [
    "# b) The distribution of car price across the states (Objective: To know which state is driving price)\n",
    "\n",
    "df_state = df1.groupby([\"state\"])\n",
    "\n",
    "state1 = pd.DataFrame(df1[\"state\"].value_counts().sort_index())\n",
    "\n",
    "state2 = pd.DataFrame(df1[\"state\"].value_counts(normalize = True).sort_index())\n",
    "\n",
    "state3 = pd.concat([state1, state2], axis='columns', sort=False)\n",
    "state3.columns = ['num_cars', 'num_cars(%)']\n",
    "\n",
    "\n",
    "state4 = pd.DataFrame(df_state[\"price\"].agg([\"sum\",\"mean\",\"median\"]).sort_index())\n",
    "state4.columns = ['total_car_price', 'mean_car_price', 'median_car_price']\n",
    "\n",
    "state5 = pd.concat([state3, state4], axis='columns', sort=False)\n",
    "\n",
    "print(state5.sort_values(by=['num_cars'], ascending=False).head(3))\n",
    "state5.sort_values(by=['total_car_price','median_car_price'], ascending=False).head(3)\n",
    "\n",
    "\n",
    "# The most 5 top states in USA driving price are \"pennsylvania\", \"michigan\" and \"florida\" with \n",
    "# (total_car_price, median_car_price) of ($6820253,$21000), ($4039070,$25000) and ($3708605,$12530) respectively.\n",
    "\n",
    "# Also, 12%, 10% and 9% of the cars in USA are from \"pennsylvania\", \"florida and \"texas\" states respectively.\n",
    "\n"
   ]
  },
  {
   "cell_type": "code",
   "execution_count": 7,
   "metadata": {},
   "outputs": [
    {
     "name": "stdout",
     "output_type": "stream",
     "text": [
      "        num_cars  num_cars(%)  total_car_price  mean_car_price  \\\n",
      "brand                                                            \n",
      "ford        1235     0.494198         26758607    21666.888259   \n",
      "dodge        432     0.172869          7681819    17781.988426   \n",
      "nissan       312     0.124850          3764536    12065.820513   \n",
      "\n",
      "        median_car_price  \n",
      "brand                     \n",
      "ford             22000.0  \n",
      "dodge            16900.0  \n",
      "nissan           11450.0  \n"
     ]
    },
    {
     "data": {
      "text/html": [
       "<div>\n",
       "<style scoped>\n",
       "    .dataframe tbody tr th:only-of-type {\n",
       "        vertical-align: middle;\n",
       "    }\n",
       "\n",
       "    .dataframe tbody tr th {\n",
       "        vertical-align: top;\n",
       "    }\n",
       "\n",
       "    .dataframe thead th {\n",
       "        text-align: right;\n",
       "    }\n",
       "</style>\n",
       "<table border=\"1\" class=\"dataframe\">\n",
       "  <thead>\n",
       "    <tr style=\"text-align: right;\">\n",
       "      <th></th>\n",
       "      <th>num_cars</th>\n",
       "      <th>num_cars(%)</th>\n",
       "      <th>total_car_price</th>\n",
       "      <th>mean_car_price</th>\n",
       "      <th>median_car_price</th>\n",
       "    </tr>\n",
       "    <tr>\n",
       "      <th>brand</th>\n",
       "      <th></th>\n",
       "      <th></th>\n",
       "      <th></th>\n",
       "      <th></th>\n",
       "      <th></th>\n",
       "    </tr>\n",
       "  </thead>\n",
       "  <tbody>\n",
       "    <tr>\n",
       "      <th>ford</th>\n",
       "      <td>1235</td>\n",
       "      <td>0.494198</td>\n",
       "      <td>26758607</td>\n",
       "      <td>21666.888259</td>\n",
       "      <td>22000.0</td>\n",
       "    </tr>\n",
       "    <tr>\n",
       "      <th>dodge</th>\n",
       "      <td>432</td>\n",
       "      <td>0.172869</td>\n",
       "      <td>7681819</td>\n",
       "      <td>17781.988426</td>\n",
       "      <td>16900.0</td>\n",
       "    </tr>\n",
       "    <tr>\n",
       "      <th>chevrolet</th>\n",
       "      <td>297</td>\n",
       "      <td>0.118848</td>\n",
       "      <td>5544976</td>\n",
       "      <td>18669.952862</td>\n",
       "      <td>17100.0</td>\n",
       "    </tr>\n",
       "  </tbody>\n",
       "</table>\n",
       "</div>"
      ],
      "text/plain": [
       "           num_cars  num_cars(%)  total_car_price  mean_car_price  \\\n",
       "brand                                                               \n",
       "ford           1235     0.494198         26758607    21666.888259   \n",
       "dodge           432     0.172869          7681819    17781.988426   \n",
       "chevrolet       297     0.118848          5544976    18669.952862   \n",
       "\n",
       "           median_car_price  \n",
       "brand                        \n",
       "ford                22000.0  \n",
       "dodge               16900.0  \n",
       "chevrolet           17100.0  "
      ]
     },
     "execution_count": 7,
     "metadata": {},
     "output_type": "execute_result"
    }
   ],
   "source": [
    "# c) The distribution of car price across the different brands (Objective: To know which brand is driving price)\n",
    "\n",
    "df_brand = df1.groupby([\"brand\"])\n",
    "\n",
    "brand1 = pd.DataFrame(df1[\"brand\"].value_counts().sort_index())\n",
    "\n",
    "brand2 = pd.DataFrame(df1[\"brand\"].value_counts(normalize = True).sort_index())\n",
    "\n",
    "brand3 = pd.concat([brand1, brand2], axis='columns', sort=False)\n",
    "brand3.columns = ['num_cars', 'num_cars(%)']\n",
    "\n",
    "\n",
    "brand4 = pd.DataFrame(df_brand[\"price\"].agg([\"sum\",\"mean\",\"median\"]).sort_index())\n",
    "brand4.columns = ['total_car_price', 'mean_car_price', 'median_car_price']\n",
    "\n",
    "brand5 = pd.concat([brand3, brand4], axis='columns', sort=False)\n",
    "print(brand5.sort_values(by=['num_cars'], ascending=False).head(3))\n",
    "brand5.sort_values(by=['total_car_price','mean_car_price'], ascending=False).head(3)\n",
    "\n",
    "# The most 3 top brand of cars driving price in USA are \"ford\", \"dodge\" and \"chevrolet\" with \n",
    "# (total_car_price, mean_car_price) of ($26758607, $21667), ($7681819, $17782), ($5544976, $18670) respectively.\n",
    "\n",
    "# Also, 50%, 17% and 12% of car brand in USA are \"ford\", \"dodge\" and \"chevrolet\" respectively.\n",
    "\n"
   ]
  },
  {
   "cell_type": "code",
   "execution_count": 8,
   "metadata": {},
   "outputs": [
    {
     "name": "stdout",
     "output_type": "stream",
     "text": [
      "       num_cars  num_cars(%)  total_car_price  mean_car_price  \\\n",
      "color                                                           \n",
      "white       707     0.282913         13759356    19461.606789   \n",
      "black       516     0.206483         10469400    20289.534884   \n",
      "gray        395     0.158063          6870819    17394.478481   \n",
      "\n",
      "       median_car_price  \n",
      "color                    \n",
      "white           18600.0  \n",
      "black           17625.0  \n",
      "gray            16400.0  \n"
     ]
    },
    {
     "data": {
      "text/html": [
       "<div>\n",
       "<style scoped>\n",
       "    .dataframe tbody tr th:only-of-type {\n",
       "        vertical-align: middle;\n",
       "    }\n",
       "\n",
       "    .dataframe tbody tr th {\n",
       "        vertical-align: top;\n",
       "    }\n",
       "\n",
       "    .dataframe thead th {\n",
       "        text-align: right;\n",
       "    }\n",
       "</style>\n",
       "<table border=\"1\" class=\"dataframe\">\n",
       "  <thead>\n",
       "    <tr style=\"text-align: right;\">\n",
       "      <th></th>\n",
       "      <th>num_cars</th>\n",
       "      <th>num_cars(%)</th>\n",
       "      <th>total_car_price</th>\n",
       "      <th>mean_car_price</th>\n",
       "      <th>median_car_price</th>\n",
       "    </tr>\n",
       "    <tr>\n",
       "      <th>color</th>\n",
       "      <th></th>\n",
       "      <th></th>\n",
       "      <th></th>\n",
       "      <th></th>\n",
       "      <th></th>\n",
       "    </tr>\n",
       "  </thead>\n",
       "  <tbody>\n",
       "    <tr>\n",
       "      <th>white</th>\n",
       "      <td>707</td>\n",
       "      <td>0.282913</td>\n",
       "      <td>13759356</td>\n",
       "      <td>19461.606789</td>\n",
       "      <td>18600.0</td>\n",
       "    </tr>\n",
       "    <tr>\n",
       "      <th>black</th>\n",
       "      <td>516</td>\n",
       "      <td>0.206483</td>\n",
       "      <td>10469400</td>\n",
       "      <td>20289.534884</td>\n",
       "      <td>17625.0</td>\n",
       "    </tr>\n",
       "    <tr>\n",
       "      <th>gray</th>\n",
       "      <td>395</td>\n",
       "      <td>0.158063</td>\n",
       "      <td>6870819</td>\n",
       "      <td>17394.478481</td>\n",
       "      <td>16400.0</td>\n",
       "    </tr>\n",
       "  </tbody>\n",
       "</table>\n",
       "</div>"
      ],
      "text/plain": [
       "       num_cars  num_cars(%)  total_car_price  mean_car_price  \\\n",
       "color                                                           \n",
       "white       707     0.282913         13759356    19461.606789   \n",
       "black       516     0.206483         10469400    20289.534884   \n",
       "gray        395     0.158063          6870819    17394.478481   \n",
       "\n",
       "       median_car_price  \n",
       "color                    \n",
       "white           18600.0  \n",
       "black           17625.0  \n",
       "gray            16400.0  "
      ]
     },
     "execution_count": 8,
     "metadata": {},
     "output_type": "execute_result"
    }
   ],
   "source": [
    "# d) The distribution of car price across the different colours (Objective: To know which colour is driving price)\n",
    "\n",
    "df_color = df1.groupby([\"color\"])\n",
    "\n",
    "color1 = pd.DataFrame(df1[\"color\"].value_counts().sort_index())\n",
    "\n",
    "color2 = pd.DataFrame(df1[\"color\"].value_counts(normalize = True).sort_index())\n",
    "\n",
    "color3 = pd.concat([color1, color2], axis='columns', sort=False)\n",
    "color3.columns = ['num_cars', 'num_cars(%)']\n",
    "\n",
    "\n",
    "color4 = pd.DataFrame(df_color[\"price\"].agg([\"sum\",\"mean\",\"median\"]).sort_index())\n",
    "color4.columns = ['total_car_price', 'mean_car_price', 'median_car_price']\n",
    "\n",
    "color5 = pd.concat([color3, color4], axis='columns', sort=False)\n",
    "print(color5.sort_values(by=['num_cars'], ascending=False).head(3))\n",
    "color5.sort_values(by=['total_car_price','mean_car_price'], ascending=False).head(3)\n",
    "\n",
    "\n",
    "# The most 3 top color of cars driving price in USA are \"white\", \"black\" and \"gray\" with \n",
    "# (total_car_price, mean_car_price) of ($13759356, $19462), ($10469400, $20290), ($6870819, $17344) respectively.\n",
    "\n",
    "# Also, 29%, 21% and 16% of car colour in USA are \"white\", \"black\" and \"gray\" respectively.\n",
    "\n"
   ]
  },
  {
   "cell_type": "code",
   "execution_count": 9,
   "metadata": {},
   "outputs": [
    {
     "name": "stdout",
     "output_type": "stream",
     "text": [
      "       num_cars  num_cars(%)  total_car_price  mean_car_price  \\\n",
      "model                                                           \n",
      "door        651     0.260504          8073834    12402.202765   \n",
      "f-150       219     0.087635          6175108    28196.840183   \n",
      "doors       148     0.059224          2485516    16794.027027   \n",
      "\n",
      "       median_car_price  \n",
      "model                    \n",
      "door             9200.0  \n",
      "f-150           27202.0  \n",
      "doors           16540.5  \n"
     ]
    },
    {
     "data": {
      "text/html": [
       "<div>\n",
       "<style scoped>\n",
       "    .dataframe tbody tr th:only-of-type {\n",
       "        vertical-align: middle;\n",
       "    }\n",
       "\n",
       "    .dataframe tbody tr th {\n",
       "        vertical-align: top;\n",
       "    }\n",
       "\n",
       "    .dataframe thead th {\n",
       "        text-align: right;\n",
       "    }\n",
       "</style>\n",
       "<table border=\"1\" class=\"dataframe\">\n",
       "  <thead>\n",
       "    <tr style=\"text-align: right;\">\n",
       "      <th></th>\n",
       "      <th>num_cars</th>\n",
       "      <th>num_cars(%)</th>\n",
       "      <th>total_car_price</th>\n",
       "      <th>mean_car_price</th>\n",
       "      <th>median_car_price</th>\n",
       "    </tr>\n",
       "    <tr>\n",
       "      <th>model</th>\n",
       "      <th></th>\n",
       "      <th></th>\n",
       "      <th></th>\n",
       "      <th></th>\n",
       "      <th></th>\n",
       "    </tr>\n",
       "  </thead>\n",
       "  <tbody>\n",
       "    <tr>\n",
       "      <th>door</th>\n",
       "      <td>651</td>\n",
       "      <td>0.260504</td>\n",
       "      <td>8073834</td>\n",
       "      <td>12402.202765</td>\n",
       "      <td>9200.0</td>\n",
       "    </tr>\n",
       "    <tr>\n",
       "      <th>f-150</th>\n",
       "      <td>219</td>\n",
       "      <td>0.087635</td>\n",
       "      <td>6175108</td>\n",
       "      <td>28196.840183</td>\n",
       "      <td>27202.0</td>\n",
       "    </tr>\n",
       "    <tr>\n",
       "      <th>doors</th>\n",
       "      <td>148</td>\n",
       "      <td>0.059224</td>\n",
       "      <td>2485516</td>\n",
       "      <td>16794.027027</td>\n",
       "      <td>16540.5</td>\n",
       "    </tr>\n",
       "  </tbody>\n",
       "</table>\n",
       "</div>"
      ],
      "text/plain": [
       "       num_cars  num_cars(%)  total_car_price  mean_car_price  \\\n",
       "model                                                           \n",
       "door        651     0.260504          8073834    12402.202765   \n",
       "f-150       219     0.087635          6175108    28196.840183   \n",
       "doors       148     0.059224          2485516    16794.027027   \n",
       "\n",
       "       median_car_price  \n",
       "model                    \n",
       "door             9200.0  \n",
       "f-150           27202.0  \n",
       "doors           16540.5  "
      ]
     },
     "execution_count": 9,
     "metadata": {},
     "output_type": "execute_result"
    }
   ],
   "source": [
    "# e) The distribution of car price across the different models (Objective: To know which car model is driving price)\n",
    "\n",
    "df_model = df1.groupby([\"model\"])\n",
    "\n",
    "model1 = pd.DataFrame(df1[\"model\"].value_counts().sort_index())\n",
    "\n",
    "\n",
    "model2 = pd.DataFrame(df1[\"model\"].value_counts(normalize = True).sort_index())\n",
    "\n",
    "model3 = pd.concat([model1, model2], axis='columns', sort=False)\n",
    "model3.columns = ['num_cars', 'num_cars(%)']\n",
    "\n",
    "\n",
    "model4 = pd.DataFrame(df_model[\"price\"].agg([\"sum\",\"mean\",\"median\"]).sort_index())\n",
    "model4.columns = ['total_car_price', 'mean_car_price', 'median_car_price']\n",
    "\n",
    "model5 = pd.concat([model3, model4], axis='columns', sort=False)\n",
    "print(model5.sort_values(by=['num_cars'], ascending=False).head(3))\n",
    "model5.sort_values(by=['total_car_price','mean_car_price'], ascending=False).head(3)\n",
    "\n",
    "# The most 3 top model of cars driving price in USA are \"door\", \"f-150\" and \"doors\" with \n",
    "# (total_car_price, median_car_price) of ($8073834, $9200), ($6175108, $27202), ($2485516, $16540) respectively.\n",
    "\n",
    "# Also, 26%, 9% and 6% of car model in USA are \"door\", \"f-150\" and \"doors\" respectivel"
   ]
  },
  {
   "cell_type": "code",
   "execution_count": 10,
   "metadata": {},
   "outputs": [
    {
     "data": {
      "text/html": [
       "<div>\n",
       "<style scoped>\n",
       "    .dataframe tbody tr th:only-of-type {\n",
       "        vertical-align: middle;\n",
       "    }\n",
       "\n",
       "    .dataframe tbody tr th {\n",
       "        vertical-align: top;\n",
       "    }\n",
       "\n",
       "    .dataframe thead th {\n",
       "        text-align: right;\n",
       "    }\n",
       "</style>\n",
       "<table border=\"1\" class=\"dataframe\">\n",
       "  <thead>\n",
       "    <tr style=\"text-align: right;\">\n",
       "      <th></th>\n",
       "      <th>price</th>\n",
       "      <th>brand</th>\n",
       "      <th>model</th>\n",
       "      <th>year</th>\n",
       "      <th>title_status</th>\n",
       "      <th>mileage</th>\n",
       "      <th>color</th>\n",
       "      <th>lot</th>\n",
       "      <th>state</th>\n",
       "      <th>mileage_group</th>\n",
       "    </tr>\n",
       "  </thead>\n",
       "  <tbody>\n",
       "    <tr>\n",
       "      <th>0</th>\n",
       "      <td>6300</td>\n",
       "      <td>toyota</td>\n",
       "      <td>cruiser</td>\n",
       "      <td>2008</td>\n",
       "      <td>clean vehicle</td>\n",
       "      <td>274117.0</td>\n",
       "      <td>black</td>\n",
       "      <td>159348797</td>\n",
       "      <td>new jersey</td>\n",
       "      <td>&gt;150000</td>\n",
       "    </tr>\n",
       "    <tr>\n",
       "      <th>1</th>\n",
       "      <td>2899</td>\n",
       "      <td>ford</td>\n",
       "      <td>se</td>\n",
       "      <td>2011</td>\n",
       "      <td>clean vehicle</td>\n",
       "      <td>190552.0</td>\n",
       "      <td>silver</td>\n",
       "      <td>166951262</td>\n",
       "      <td>tennessee</td>\n",
       "      <td>&gt;150000</td>\n",
       "    </tr>\n",
       "    <tr>\n",
       "      <th>2</th>\n",
       "      <td>5350</td>\n",
       "      <td>dodge</td>\n",
       "      <td>mpv</td>\n",
       "      <td>2018</td>\n",
       "      <td>clean vehicle</td>\n",
       "      <td>39590.0</td>\n",
       "      <td>silver</td>\n",
       "      <td>167655728</td>\n",
       "      <td>georgia</td>\n",
       "      <td>26000-50000</td>\n",
       "    </tr>\n",
       "    <tr>\n",
       "      <th>3</th>\n",
       "      <td>25000</td>\n",
       "      <td>ford</td>\n",
       "      <td>door</td>\n",
       "      <td>2014</td>\n",
       "      <td>clean vehicle</td>\n",
       "      <td>64146.0</td>\n",
       "      <td>blue</td>\n",
       "      <td>167753855</td>\n",
       "      <td>virginia</td>\n",
       "      <td>51000-75000</td>\n",
       "    </tr>\n",
       "    <tr>\n",
       "      <th>4</th>\n",
       "      <td>27700</td>\n",
       "      <td>chevrolet</td>\n",
       "      <td>1500</td>\n",
       "      <td>2018</td>\n",
       "      <td>clean vehicle</td>\n",
       "      <td>6654.0</td>\n",
       "      <td>red</td>\n",
       "      <td>167763266</td>\n",
       "      <td>florida</td>\n",
       "      <td>0-25000</td>\n",
       "    </tr>\n",
       "  </tbody>\n",
       "</table>\n",
       "</div>"
      ],
      "text/plain": [
       "   price      brand    model  year   title_status   mileage   color  \\\n",
       "0   6300     toyota  cruiser  2008  clean vehicle  274117.0   black   \n",
       "1   2899       ford       se  2011  clean vehicle  190552.0  silver   \n",
       "2   5350      dodge      mpv  2018  clean vehicle   39590.0  silver   \n",
       "3  25000       ford     door  2014  clean vehicle   64146.0    blue   \n",
       "4  27700  chevrolet     1500  2018  clean vehicle    6654.0     red   \n",
       "\n",
       "         lot       state mileage_group  \n",
       "0  159348797  new jersey       >150000  \n",
       "1  166951262   tennessee       >150000  \n",
       "2  167655728     georgia   26000-50000  \n",
       "3  167753855    virginia   51000-75000  \n",
       "4  167763266     florida       0-25000  "
      ]
     },
     "execution_count": 10,
     "metadata": {},
     "output_type": "execute_result"
    }
   ],
   "source": [
    "# Grouping mileage into four groups\n",
    "k = df1.copy()\n",
    "\n",
    "for i in k['mileage']:\n",
    "    if i <= 25000:\n",
    "        k['mileage'] = k['mileage'].replace({i: \"0-25000\"})\n",
    "        \n",
    "    elif i > 25000 and i <= 50000:\n",
    "        k['mileage'] = k['mileage'].replace({i: \"26000-50000\"})\n",
    "        \n",
    "    elif i > 51000 and i <= 75000:\n",
    "        k['mileage'] = k['mileage'].replace({i: \"51000-75000\"})\n",
    "        \n",
    "    elif i > 76000 and i <= 100000:\n",
    "        k['mileage'] = k['mileage'].replace({i: \"76000-100000\"})\n",
    "        \n",
    "    elif i > 101000 and i <= 125000:\n",
    "        k['mileage'] = k['mileage'].replace({i: \"101000-125000\"})\n",
    "        \n",
    "    elif i > 126000 and i <= 150000:\n",
    "        k['mileage'] = k['mileage'].replace({i: \"100000-150000\"})\n",
    "        \n",
    "    else:\n",
    "        k['mileage'] = k['mileage'].replace({i: \">150000\"})\n",
    "#print(k['mileage'])\n",
    "        \n",
    "     \n",
    "h = df1.assign(mileage_group = k['mileage'])\n",
    "h.head()"
   ]
  },
  {
   "cell_type": "code",
   "execution_count": 11,
   "metadata": {},
   "outputs": [
    {
     "data": {
      "text/html": [
       "<div>\n",
       "<style scoped>\n",
       "    .dataframe tbody tr th:only-of-type {\n",
       "        vertical-align: middle;\n",
       "    }\n",
       "\n",
       "    .dataframe tbody tr th {\n",
       "        vertical-align: top;\n",
       "    }\n",
       "\n",
       "    .dataframe thead th {\n",
       "        text-align: right;\n",
       "    }\n",
       "</style>\n",
       "<table border=\"1\" class=\"dataframe\">\n",
       "  <thead>\n",
       "    <tr style=\"text-align: right;\">\n",
       "      <th></th>\n",
       "      <th>num_cars</th>\n",
       "      <th>num_cars(%)</th>\n",
       "      <th>total_car_price</th>\n",
       "      <th>mean_car_price</th>\n",
       "      <th>median_car_price</th>\n",
       "    </tr>\n",
       "    <tr>\n",
       "      <th>mileage_group</th>\n",
       "      <th></th>\n",
       "      <th></th>\n",
       "      <th></th>\n",
       "      <th></th>\n",
       "      <th></th>\n",
       "    </tr>\n",
       "  </thead>\n",
       "  <tbody>\n",
       "    <tr>\n",
       "      <th>0-25000</th>\n",
       "      <td>750</td>\n",
       "      <td>0.300120</td>\n",
       "      <td>19385498</td>\n",
       "      <td>25847.330667</td>\n",
       "      <td>24300</td>\n",
       "    </tr>\n",
       "    <tr>\n",
       "      <th>26000-50000</th>\n",
       "      <td>961</td>\n",
       "      <td>0.384554</td>\n",
       "      <td>18411006</td>\n",
       "      <td>19158.174818</td>\n",
       "      <td>16500</td>\n",
       "    </tr>\n",
       "    <tr>\n",
       "      <th>51000-75000</th>\n",
       "      <td>256</td>\n",
       "      <td>0.102441</td>\n",
       "      <td>4195850</td>\n",
       "      <td>16390.039062</td>\n",
       "      <td>14100</td>\n",
       "    </tr>\n",
       "    <tr>\n",
       "      <th>76000-100000</th>\n",
       "      <td>188</td>\n",
       "      <td>0.075230</td>\n",
       "      <td>2384504</td>\n",
       "      <td>12683.531915</td>\n",
       "      <td>10300</td>\n",
       "    </tr>\n",
       "    <tr>\n",
       "      <th>101000-125000</th>\n",
       "      <td>122</td>\n",
       "      <td>0.048820</td>\n",
       "      <td>999866</td>\n",
       "      <td>8195.622951</td>\n",
       "      <td>6250</td>\n",
       "    </tr>\n",
       "    <tr>\n",
       "      <th>&gt;150000</th>\n",
       "      <td>142</td>\n",
       "      <td>0.056823</td>\n",
       "      <td>889008</td>\n",
       "      <td>6260.619718</td>\n",
       "      <td>3250</td>\n",
       "    </tr>\n",
       "    <tr>\n",
       "      <th>100000-150000</th>\n",
       "      <td>80</td>\n",
       "      <td>0.032013</td>\n",
       "      <td>634679</td>\n",
       "      <td>7933.487500</td>\n",
       "      <td>5900</td>\n",
       "    </tr>\n",
       "  </tbody>\n",
       "</table>\n",
       "</div>"
      ],
      "text/plain": [
       "               num_cars  num_cars(%)  total_car_price  mean_car_price  \\\n",
       "mileage_group                                                           \n",
       "0-25000             750     0.300120         19385498    25847.330667   \n",
       "26000-50000         961     0.384554         18411006    19158.174818   \n",
       "51000-75000         256     0.102441          4195850    16390.039062   \n",
       "76000-100000        188     0.075230          2384504    12683.531915   \n",
       "101000-125000       122     0.048820           999866     8195.622951   \n",
       ">150000             142     0.056823           889008     6260.619718   \n",
       "100000-150000        80     0.032013           634679     7933.487500   \n",
       "\n",
       "               median_car_price  \n",
       "mileage_group                    \n",
       "0-25000                   24300  \n",
       "26000-50000               16500  \n",
       "51000-75000               14100  \n",
       "76000-100000              10300  \n",
       "101000-125000              6250  \n",
       ">150000                    3250  \n",
       "100000-150000              5900  "
      ]
     },
     "execution_count": 11,
     "metadata": {},
     "output_type": "execute_result"
    }
   ],
   "source": [
    "# f) The distribution of car price across the new millaage_group (Objective: To know the millage group that is driving price)\n",
    "\n",
    "df_mileage = h.groupby([\"mileage_group\"])\n",
    "\n",
    "mileage1 = pd.DataFrame(h[\"mileage_group\"].value_counts().sort_index())\n",
    "\n",
    "\n",
    "mileage2 = pd.DataFrame(h[\"mileage_group\"].value_counts(normalize = True).sort_index())\n",
    "\n",
    "mileage3 = pd.concat([mileage1, mileage2], axis='columns', sort=False)\n",
    "mileage3.columns = ['num_cars', 'num_cars(%)']\n",
    "\n",
    "\n",
    "mileage4 = pd.DataFrame(df_mileage[\"price\"].agg([\"sum\",\"mean\",\"median\"]).sort_index())\n",
    "mileage4.columns = ['total_car_price', 'mean_car_price', 'median_car_price']\n",
    "\n",
    "mileage5 = pd.concat([mileage3, mileage4], axis='columns', sort=False)\n",
    "mileage5.sort_values(by=['total_car_price','median_car_price'], ascending=False)\n",
    "\n",
    "# The most 3 top group mileage of cars driving price in USA are \"0-25000\", \"26000-50000\t\" and \"51000-75000\" with \n",
    "# (total_car_price, median_car_price) of ($37796504, $20400), ($4350929, $14000), ($12822.649485, $10420) respectively.\n",
    "\n",
    "# Also, 68%, 11% and 8% of car mileage in USA are within \"0-50000\", \"51000-75000\" and \"75000-100000\" respectively.\n"
   ]
  },
  {
   "cell_type": "code",
   "execution_count": 12,
   "metadata": {},
   "outputs": [
    {
     "name": "stdout",
     "output_type": "stream",
     "text": [
      "      num_cars  num_cars(%)  total_car_price  mean_car_price  median_car_price\n",
      "2019       892     0.356943         21430661    24025.404709           22800.0\n",
      "2018       395     0.158063          7528044    19058.339241           16500.0\n",
      "2017       377     0.150860          7010858    18596.440318           15290.0\n",
      "2016       203     0.081232          3711025    18280.911330           16000.0\n",
      "2015       196     0.078431          3050381    15563.168367           15000.0\n",
      "----------------------------------------------------------------------------------------------------\n",
      "\n"
     ]
    },
    {
     "data": {
      "text/html": [
       "<div>\n",
       "<style scoped>\n",
       "    .dataframe tbody tr th:only-of-type {\n",
       "        vertical-align: middle;\n",
       "    }\n",
       "\n",
       "    .dataframe tbody tr th {\n",
       "        vertical-align: top;\n",
       "    }\n",
       "\n",
       "    .dataframe thead th {\n",
       "        text-align: right;\n",
       "    }\n",
       "</style>\n",
       "<table border=\"1\" class=\"dataframe\">\n",
       "  <thead>\n",
       "    <tr style=\"text-align: right;\">\n",
       "      <th></th>\n",
       "      <th>num_cars</th>\n",
       "      <th>num_cars(%)</th>\n",
       "      <th>total_car_price</th>\n",
       "      <th>mean_car_price</th>\n",
       "      <th>median_car_price</th>\n",
       "    </tr>\n",
       "  </thead>\n",
       "  <tbody>\n",
       "    <tr>\n",
       "      <th>1973</th>\n",
       "      <td>1</td>\n",
       "      <td>0.000400</td>\n",
       "      <td>29800</td>\n",
       "      <td>29800.000000</td>\n",
       "      <td>29800.0</td>\n",
       "    </tr>\n",
       "    <tr>\n",
       "      <th>2020</th>\n",
       "      <td>48</td>\n",
       "      <td>0.019208</td>\n",
       "      <td>1204025</td>\n",
       "      <td>25083.854167</td>\n",
       "      <td>20350.0</td>\n",
       "    </tr>\n",
       "    <tr>\n",
       "      <th>2019</th>\n",
       "      <td>892</td>\n",
       "      <td>0.356943</td>\n",
       "      <td>21430661</td>\n",
       "      <td>24025.404709</td>\n",
       "      <td>22800.0</td>\n",
       "    </tr>\n",
       "    <tr>\n",
       "      <th>2018</th>\n",
       "      <td>395</td>\n",
       "      <td>0.158063</td>\n",
       "      <td>7528044</td>\n",
       "      <td>19058.339241</td>\n",
       "      <td>16500.0</td>\n",
       "    </tr>\n",
       "    <tr>\n",
       "      <th>2017</th>\n",
       "      <td>377</td>\n",
       "      <td>0.150860</td>\n",
       "      <td>7010858</td>\n",
       "      <td>18596.440318</td>\n",
       "      <td>15290.0</td>\n",
       "    </tr>\n",
       "  </tbody>\n",
       "</table>\n",
       "</div>"
      ],
      "text/plain": [
       "      num_cars  num_cars(%)  total_car_price  mean_car_price  median_car_price\n",
       "1973         1     0.000400            29800    29800.000000           29800.0\n",
       "2020        48     0.019208          1204025    25083.854167           20350.0\n",
       "2019       892     0.356943         21430661    24025.404709           22800.0\n",
       "2018       395     0.158063          7528044    19058.339241           16500.0\n",
       "2017       377     0.150860          7010858    18596.440318           15290.0"
      ]
     },
     "execution_count": 12,
     "metadata": {},
     "output_type": "execute_result"
    }
   ],
   "source": [
    "# g) The distribution of car price across the different years (Objective: To know which year is driving price)\n",
    "df_year = df1.groupby([\"year\"])\n",
    "\n",
    "year1 = pd.DataFrame(df1[\"year\"].value_counts().sort_index())\n",
    "\n",
    "year2 = pd.DataFrame(df1[\"year\"].value_counts(normalize = True).sort_index())\n",
    "\n",
    "year3 = pd.concat([year1, year2], axis='columns', sort=False)\n",
    "year3.columns = ['num_cars', 'num_cars(%)']\n",
    "\n",
    "\n",
    "year4 = pd.DataFrame(df_year[\"price\"].agg([\"sum\",\"mean\",\"median\"]).sort_index())\n",
    "year4.columns = ['total_car_price', 'mean_car_price', 'median_car_price']\n",
    "\n",
    "year5 = pd.concat([year3, year4], axis='columns', sort=False)\n",
    "\n",
    "print(year5.sort_values(by=['num_cars(%)','median_car_price'], ascending=False).head(5))\n",
    "print('-'*100)\n",
    "print(''*100)\n",
    "\n",
    "year5.sort_values(by=['mean_car_price','median_car_price'], ascending=False).head(5)\n",
    "\n",
    "# The most 3 top years driving price in USA are \"1973\", \"2020\" and \"2019\" with \n",
    "# (mean_car_price, median_car_price) of ($29800, $29800), ($25084, $20350), ($24025, $22800) respectively.\n",
    "\n",
    "# Also, 36%, 16% and 15% of cars for different years in USA are \"2019\", \"2018\" and \"2017\" respectively.\n",
    "\n"
   ]
  },
  {
   "cell_type": "code",
   "execution_count": 13,
   "metadata": {},
   "outputs": [
    {
     "data": {
      "text/plain": [
       "Text(0.5, 1.0, 'Histogram of car price')"
      ]
     },
     "execution_count": 13,
     "metadata": {},
     "output_type": "execute_result"
    },
    {
     "data": {
      "image/png": "[encoded data removed]",
      "text/plain": [
       "<Figure size 432x288 with 1 Axes>"
      ]
     },
     "metadata": {
      "needs_background": "light"
     },
     "output_type": "display_data"
    }
   ],
   "source": [
    "# Histogram of price\n",
    "df1['price'].hist()\n",
    "plt.xlabel('price')\n",
    "plt.ylabel('counts')\n",
    "plt.title('Histogram of car price')"
   ]
  },
  {
   "cell_type": "code",
   "execution_count": 14,
   "metadata": {},
   "outputs": [
    {
     "data": {
      "text/plain": [
       "Text(0.5, 1.0, 'Histogram of year')"
      ]
     },
     "execution_count": 14,
     "metadata": {},
     "output_type": "execute_result"
    },
    {
     "data": {
      "image/png": "[encoded data removed]",
      "text/plain": [
       "<Figure size 432x288 with 1 Axes>"
      ]
     },
     "metadata": {
      "needs_background": "light"
     },
     "output_type": "display_data"
    }
   ],
   "source": [
    "df1['year'].hist()\n",
    "plt.xlabel('year')\n",
    "plt.ylabel('counts')\n",
    "plt.title('Histogram of year')"
   ]
  },
  {
   "cell_type": "code",
   "execution_count": 15,
   "metadata": {},
   "outputs": [
    {
     "data": {
      "text/plain": [
       "Text(0.5, 1.0, 'Histogram of mileage')"
      ]
     },
     "execution_count": 15,
     "metadata": {},
     "output_type": "execute_result"
    },
    {
     "data": {
      "image/png": "[encoded data removed]",
      "text/plain": [
       "<Figure size 432x288 with 1 Axes>"
      ]
     },
     "metadata": {
      "needs_background": "light"
     },
     "output_type": "display_data"
    }
   ],
   "source": [
    "df1['mileage'].hist()\n",
    "plt.xlabel('mileage')\n",
    "plt.ylabel('counts')\n",
    "plt.title('Histogram of mileage')"
   ]
  },
  {
   "cell_type": "code",
   "execution_count": 16,
   "metadata": {},
   "outputs": [
    {
     "data": {
      "text/plain": [
       "Text(0.5, 1.0, 'Bar plot of state')"
      ]
     },
     "execution_count": 16,
     "metadata": {},
     "output_type": "execute_result"
    },
    {
     "data": {
      "image/png": "[encoded data removed]",
      "text/plain": [
       "<Figure size 432x288 with 1 Axes>"
      ]
     },
     "metadata": {
      "needs_background": "light"
     },
     "output_type": "display_data"
    }
   ],
   "source": [
    "df1['state'].value_counts().plot(kind='bar')\n",
    "plt.xlabel('state')\n",
    "plt.ylabel('counts')\n",
    "plt.title('Bar plot of state')"
   ]
  },
  {
   "cell_type": "code",
   "execution_count": 17,
   "metadata": {},
   "outputs": [
    {
     "data": {
      "text/plain": [
       "Text(0.5, 1.0, 'Barplot of mileage groups')"
      ]
     },
     "execution_count": 17,
     "metadata": {},
     "output_type": "execute_result"
    },
    {
     "data": {
      "image/png": "[encoded data removed]",
      "text/plain": [
       "<Figure size 432x288 with 1 Axes>"
      ]
     },
     "metadata": {
      "needs_background": "light"
     },
     "output_type": "display_data"
    }
   ],
   "source": [
    "h['mileage_group'].value_counts().plot(kind='bar')\n",
    "plt.xlabel('mileage_group')\n",
    "plt.ylabel('counts')\n",
    "plt.title('Barplot of mileage groups')"
   ]
  },
  {
   "cell_type": "code",
   "execution_count": 18,
   "metadata": {},
   "outputs": [
    {
     "data": {
      "text/plain": [
       "Text(0.5, 1.0, 'Barplot of car colours')"
      ]
     },
     "execution_count": 18,
     "metadata": {},
     "output_type": "execute_result"
    },
    {
     "data": {
      "image/png": "[encoded data removed]",
      "text/plain": [
       "<Figure size 432x288 with 1 Axes>"
      ]
     },
     "metadata": {
      "needs_background": "light"
     },
     "output_type": "display_data"
    }
   ],
   "source": [
    "df1['color'].value_counts().plot(kind='bar')\n",
    "plt.xlabel('color')\n",
    "plt.ylabel('counts')\n",
    "plt.title('Barplot of car colours')"
   ]
  },
  {
   "cell_type": "code",
   "execution_count": 19,
   "metadata": {},
   "outputs": [
    {
     "data": {
      "text/plain": [
       "Text(0.5, 1.0, 'Bar plot of brand')"
      ]
     },
     "execution_count": 19,
     "metadata": {},
     "output_type": "execute_result"
    },
    {
     "data": {
      "image/png": "[encoded data removed]",
      "text/plain": [
       "<Figure size 432x288 with 1 Axes>"
      ]
     },
     "metadata": {
      "needs_background": "light"
     },
     "output_type": "display_data"
    }
   ],
   "source": [
    "df1['brand'].value_counts().plot(kind='bar')\n",
    "plt.xlabel('brand')\n",
    "plt.ylabel('counts')\n",
    "plt.title('Bar plot of brand')"
   ]
  },
  {
   "cell_type": "code",
   "execution_count": 20,
   "metadata": {},
   "outputs": [],
   "source": [
    "# Getting the dummies for the categorical variables\n",
    "#df2 = pd.get_dummies(df1)"
   ]
  },
  {
   "cell_type": "code",
   "execution_count": 21,
   "metadata": {},
   "outputs": [
    {
     "data": {
      "text/plain": [
       "Text(0.5, 1.0, 'Bar plot of model')"
      ]
     },
     "execution_count": 21,
     "metadata": {},
     "output_type": "execute_result"
    },
    {
     "data": {
      "image/png": "[encoded data removed]",
      "text/plain": [
       "<Figure size 432x288 with 1 Axes>"
      ]
     },
     "metadata": {
      "needs_background": "light"
     },
     "output_type": "display_data"
    }
   ],
   "source": [
    "df1['model'].value_counts().plot(kind='bar')\n",
    "plt.xlabel('model')\n",
    "plt.ylabel('counts')\n",
    "plt.title('Bar plot of model')"
   ]
  },
  {
   "cell_type": "code",
   "execution_count": 22,
   "metadata": {},
   "outputs": [
    {
     "data": {
      "text/plain": [
       "Text(0.5, 1.0, 'Bar plot of title_status')"
      ]
     },
     "execution_count": 22,
     "metadata": {},
     "output_type": "execute_result"
    },
    {
     "data": {
      "image/png": "[encoded data removed]",
      "text/plain": [
       "<Figure size 432x288 with 1 Axes>"
      ]
     },
     "metadata": {
      "needs_background": "light"
     },
     "output_type": "display_data"
    }
   ],
   "source": [
    "df1['title_status'].value_counts().plot(kind='bar')\n",
    "plt.xlabel('title_status')\n",
    "plt.ylabel('counts')\n",
    "plt.title('Bar plot of title_status')"
   ]
  },
  {
   "cell_type": "code",
   "execution_count": 23,
   "metadata": {},
   "outputs": [
    {
     "name": "stdout",
     "output_type": "stream",
     "text": [
      "(0.0, 91917.69995328422)\n"
     ]
    },
    {
     "data": {
      "text/plain": [
       "Text(0.5, 1.0, 'Scatter plot of year versus price')"
      ]
     },
     "execution_count": 23,
     "metadata": {},
     "output_type": "execute_result"
    },
    {
     "data": {
      "image/png": "[encoded data removed]",
      "text/plain": [
       "<Figure size 432x288 with 1 Axes>"
      ]
     },
     "metadata": {
      "needs_background": "light"
     },
     "output_type": "display_data"
    }
   ],
   "source": [
    "# 2 Visualization\n",
    "\n",
    "# c) Scatter plots\n",
    "sns.regplot(x=\"year\", y=\"price\", data=df1)\n",
    "print(plt.ylim(0,))\n",
    "plt.title('Scatter plot of year versus price')\n",
    "\n"
   ]
  },
  {
   "cell_type": "code",
   "execution_count": 24,
   "metadata": {},
   "outputs": [
    {
     "data": {
      "text/plain": [
       "Text(0.5, 1.0, 'Scatter plot of mileage versus price')"
      ]
     },
     "execution_count": 24,
     "metadata": {},
     "output_type": "execute_result"
    },
    {
     "data": {
      "image/png": "[encoded data removed]",
      "text/plain": [
       "<Figure size 432x288 with 1 Axes>"
      ]
     },
     "metadata": {
      "needs_background": "light"
     },
     "output_type": "display_data"
    }
   ],
   "source": [
    "sns.regplot(x=\"mileage\", y=\"price\", data=df1)\n",
    "plt.ylim(0,)\n",
    "plt.title('Scatter plot of mileage versus price')"
   ]
  },
  {
   "cell_type": "code",
   "execution_count": 25,
   "metadata": {},
   "outputs": [
    {
     "data": {
      "text/plain": [
       "Text(0.5, 1.0, 'Scatter plot of lot versus price')"
      ]
     },
     "execution_count": 25,
     "metadata": {},
     "output_type": "execute_result"
    },
    {
     "data": {
      "image/png": "[encoded data removed]",
      "text/plain": [
       "<Figure size 432x288 with 1 Axes>"
      ]
     },
     "metadata": {
      "needs_background": "light"
     },
     "output_type": "display_data"
    }
   ],
   "source": [
    "sns.regplot(x=\"lot\", y=\"price\", data=df1)\n",
    "plt.ylim(0,)\n",
    "plt.title('Scatter plot of lot versus price')"
   ]
  },
  {
   "cell_type": "code",
   "execution_count": 26,
   "metadata": {},
   "outputs": [
    {
     "data": {
      "text/html": [
       "<div>\n",
       "<style scoped>\n",
       "    .dataframe tbody tr th:only-of-type {\n",
       "        vertical-align: middle;\n",
       "    }\n",
       "\n",
       "    .dataframe tbody tr th {\n",
       "        vertical-align: top;\n",
       "    }\n",
       "\n",
       "    .dataframe thead th {\n",
       "        text-align: right;\n",
       "    }\n",
       "</style>\n",
       "<table border=\"1\" class=\"dataframe\">\n",
       "  <thead>\n",
       "    <tr style=\"text-align: right;\">\n",
       "      <th></th>\n",
       "      <th>price</th>\n",
       "      <th>year</th>\n",
       "      <th>mileage</th>\n",
       "      <th>lot</th>\n",
       "    </tr>\n",
       "  </thead>\n",
       "  <tbody>\n",
       "    <tr>\n",
       "      <th>price</th>\n",
       "      <td>1.000000</td>\n",
       "      <td>0.418274</td>\n",
       "      <td>-0.400838</td>\n",
       "      <td>0.159369</td>\n",
       "    </tr>\n",
       "    <tr>\n",
       "      <th>year</th>\n",
       "      <td>0.418274</td>\n",
       "      <td>1.000000</td>\n",
       "      <td>-0.594686</td>\n",
       "      <td>0.164582</td>\n",
       "    </tr>\n",
       "    <tr>\n",
       "      <th>mileage</th>\n",
       "      <td>-0.400838</td>\n",
       "      <td>-0.594686</td>\n",
       "      <td>1.000000</td>\n",
       "      <td>-0.130475</td>\n",
       "    </tr>\n",
       "    <tr>\n",
       "      <th>lot</th>\n",
       "      <td>0.159369</td>\n",
       "      <td>0.164582</td>\n",
       "      <td>-0.130475</td>\n",
       "      <td>1.000000</td>\n",
       "    </tr>\n",
       "  </tbody>\n",
       "</table>\n",
       "</div>"
      ],
      "text/plain": [
       "            price      year   mileage       lot\n",
       "price    1.000000  0.418274 -0.400838  0.159369\n",
       "year     0.418274  1.000000 -0.594686  0.164582\n",
       "mileage -0.400838 -0.594686  1.000000 -0.130475\n",
       "lot      0.159369  0.164582 -0.130475  1.000000"
      ]
     },
     "execution_count": 26,
     "metadata": {},
     "output_type": "execute_result"
    }
   ],
   "source": [
    "# The correlation between Price and the quantitative covariates (year, mileage and lot)\n",
    "df1.corr()\n",
    "\n",
    "# There is a mere possitive relationship between price of cars in USA and year\n",
    "# There is a week negative relationship between price of cars in USA and mileage \n",
    "# There is a poor positive relationship between price of cars in USA and lot "
   ]
  },
  {
   "cell_type": "code",
   "execution_count": 27,
   "metadata": {},
   "outputs": [],
   "source": [
    "from scipy import stats"
   ]
  },
  {
   "cell_type": "code",
   "execution_count": 28,
   "metadata": {},
   "outputs": [
    {
     "data": {
      "text/plain": [
       "Text(0.5, 1.0, 'Box plot of mileage_group versus price')"
      ]
     },
     "execution_count": 28,
     "metadata": {},
     "output_type": "execute_result"
    },
    {
     "data": {
      "image/png": "[encoded data removed]",
      "text/plain": [
       "<Figure size 432x288 with 1 Axes>"
      ]
     },
     "metadata": {
      "needs_background": "light"
     },
     "output_type": "display_data"
    }
   ],
   "source": [
    "sns.boxplot(x=\"mileage_group\", y=\"price\", data=h)\n",
    "plt.title('Box plot of mileage_group versus price')\n",
    "# There seems to be a relationship between mileage groups and price of cars in USA"
   ]
  },
  {
   "cell_type": "code",
   "execution_count": 30,
   "metadata": {},
   "outputs": [
    {
     "data": {
      "text/plain": [
       "Text(0.5, 1.0, 'Box plot of brand versus price')"
      ]
     },
     "execution_count": 30,
     "metadata": {},
     "output_type": "execute_result"
    },
    {
     "data": {
      "image/png": "[encoded data removed]",
      "text/plain": [
       "<Figure size 432x288 with 1 Axes>"
      ]
     },
     "metadata": {
      "needs_background": "light"
     },
     "output_type": "display_data"
    }
   ],
   "source": [
    "sns.boxplot(x=\"brand\", y=\"price\", data=h)\n",
    "plt.title('Box plot of brand versus price')\n",
    "# There seems to be a relationship between brand of cars and price of cars in USA"
   ]
  },
  {
   "cell_type": "code",
   "execution_count": 31,
   "metadata": {},
   "outputs": [
    {
     "data": {
      "text/plain": [
       "Text(0.5, 1.0, 'Box plot of car color versus price')"
      ]
     },
     "execution_count": 31,
     "metadata": {},
     "output_type": "execute_result"
    },
    {
     "data": {
      "image/png": "[encoded data removed]",
      "text/plain": [
       "<Figure size 432x288 with 1 Axes>"
      ]
     },
     "metadata": {
      "needs_background": "light"
     },
     "output_type": "display_data"
    }
   ],
   "source": [
    "sns.boxplot(x=\"color\", y=\"price\", data=h)\n",
    "plt.title('Box plot of car color versus price')\n",
    "# There seems to be no a relationship between colour of cars and price of cars in USA"
   ]
  },
  {
   "cell_type": "code",
   "execution_count": 32,
   "metadata": {},
   "outputs": [
    {
     "data": {
      "text/plain": [
       "Text(0.5, 1.0, 'Box plot of state versus price')"
      ]
     },
     "execution_count": 32,
     "metadata": {},
     "output_type": "execute_result"
    },
    {
     "data": {
      "image/png": "[encoded data removed]",
      "text/plain": [
       "<Figure size 432x288 with 1 Axes>"
      ]
     },
     "metadata": {
      "needs_background": "light"
     },
     "output_type": "display_data"
    }
   ],
   "source": [
    "sns.boxplot(x=\"state\", y=\"price\", data=h)\n",
    "plt.title('Box plot of state versus price')\n",
    "# There seems to be a relationship between the differnt states and price of cars in USA\n"
   ]
  },
  {
   "cell_type": "code",
   "execution_count": 33,
   "metadata": {},
   "outputs": [
    {
     "data": {
      "text/plain": [
       "Text(0.5, 1.0, 'Box plot of model versus price')"
      ]
     },
     "execution_count": 33,
     "metadata": {},
     "output_type": "execute_result"
    },
    {
     "data": {
      "image/png": "[encoded data removed]",
      "text/plain": [
       "<Figure size 432x288 with 1 Axes>"
      ]
     },
     "metadata": {
      "needs_background": "light"
     },
     "output_type": "display_data"
    }
   ],
   "source": [
    "sns.boxplot(x=\"model\", y=\"price\", data=h)\n",
    "plt.title('Box plot of model versus price')\n",
    "# There seems to be a relationship between car model and price of cars in USA\n"
   ]
  },
  {
   "cell_type": "code",
   "execution_count": 34,
   "metadata": {},
   "outputs": [
    {
     "data": {
      "text/plain": [
       "Text(0.5, 1.0, 'Box plot of title_status versus price')"
      ]
     },
     "execution_count": 34,
     "metadata": {},
     "output_type": "execute_result"
    },
    {
     "data": {
      "image/png": "[encoded data removed]",
      "text/plain": [
       "<Figure size 432x288 with 1 Axes>"
      ]
     },
     "metadata": {
      "needs_background": "light"
     },
     "output_type": "display_data"
    }
   ],
   "source": [
    "sns.boxplot(x=\"title_status\", y=\"price\", data=h)\n",
    "plt.title('Box plot of title_status versus price')\n",
    "# There seems to be a relationship between title_status and price of cars in USA\n"
   ]
  },
  {
   "cell_type": "code",
   "execution_count": 35,
   "metadata": {},
   "outputs": [
    {
     "name": "stdout",
     "output_type": "stream",
     "text": [
      "The intercept is:  -2722955.879688779\n",
      "--------------------------------------------------------------------------------\n",
      "\n",
      "While the coefficient of year, mileage and lot are respectively:  [ 9.39161210e+02 -4.68799171e-02  5.06976229e-03]\n",
      "--------------------------------------------------------------------------------\n",
      "\n",
      "The mse is:  114779029.5565252\n",
      "--------------------------------------------------------------------------------\n",
      "\n",
      "The R-square is:  0.21781220437447368\n"
     ]
    }
   ],
   "source": [
    "# 3 Model fitting\n",
    "# a) Linear regression\n",
    "import statsmodels.formula.api as smf\n",
    "from sklearn.linear_model import LinearRegression\n",
    "from sklearn.metrics import mean_squared_error\n",
    "lm = LinearRegression()\n",
    "\n",
    "X = df1[['year', 'mileage', 'lot']]\n",
    "Y = df1['price']\n",
    "\n",
    "lm.fit(X,Y)\n",
    "\n",
    "Y_pred = lm.predict(X)\n",
    "\n",
    "mse = np.mean((Y_pred - Y)**2)\n",
    "print('The intercept is: ', lm.intercept_)\n",
    "print('-'*80)\n",
    "print(''*100)\n",
    "\n",
    "print('While the coefficient of year, mileage and lot are respectively: ', lm.coef_)\n",
    "print('-'*80)\n",
    "print(''*100)\n",
    "\n",
    "print('The mse is: ', mse)\n",
    "print('-'*80)\n",
    "print(''*100)\n",
    "\n",
    "print('The R-square is: ', lm.score(X, Y))"
   ]
  },
  {
   "cell_type": "code",
   "execution_count": 37,
   "metadata": {},
   "outputs": [
    {
     "name": "stdout",
     "output_type": "stream",
     "text": [
      "                            OLS Regression Results                            \n",
      "==============================================================================\n",
      "Dep. Variable:                  price   R-squared:                       0.218\n",
      "Model:                            OLS   Adj. R-squared:                  0.217\n",
      "Method:                 Least Squares   F-statistic:                     231.6\n",
      "Date:                Sun, 12 Dec 2021   Prob (F-statistic):          1.50e-132\n",
      "Time:                        07:48:26   Log-Likelihood:                -26735.\n",
      "No. Observations:                2499   AIC:                         5.348e+04\n",
      "Df Residuals:                    2495   BIC:                         5.350e+04\n",
      "Df Model:                           3                                         \n",
      "Covariance Type:            nonrobust                                         \n",
      "==============================================================================\n",
      "                 coef    std err          t      P>|t|      [0.025      0.975]\n",
      "------------------------------------------------------------------------------\n",
      "Intercept  -2.723e+06   2.25e+05    -12.095      0.000   -3.16e+06   -2.28e+06\n",
      "year         939.1612     77.975     12.044      0.000     786.258    1092.064\n",
      "mileage       -0.0469      0.004    -10.481      0.000      -0.056      -0.038\n",
      "lot            0.0051      0.001      4.748      0.000       0.003       0.007\n",
      "==============================================================================\n",
      "Omnibus:                      549.244   Durbin-Watson:                   1.692\n",
      "Prob(Omnibus):                  0.000   Jarque-Bera (JB):             1211.412\n",
      "Skew:                           1.244   Prob(JB):                    8.82e-264\n",
      "Kurtosis:                       5.333   Cond. No.                     1.76e+11\n",
      "==============================================================================\n",
      "\n",
      "Notes:\n",
      "[1] Standard Errors assume that the covariance matrix of the errors is correctly specified.\n",
      "[2] The condition number is large, 1.76e+11. This might indicate that there are\n",
      "strong multicollinearity or other numerical problems.\n"
     ]
    },
    {
     "data": {
      "text/html": [
       "<div>\n",
       "<style scoped>\n",
       "    .dataframe tbody tr th:only-of-type {\n",
       "        vertical-align: middle;\n",
       "    }\n",
       "\n",
       "    .dataframe tbody tr th {\n",
       "        vertical-align: top;\n",
       "    }\n",
       "\n",
       "    .dataframe thead th {\n",
       "        text-align: right;\n",
       "    }\n",
       "</style>\n",
       "<table border=\"1\" class=\"dataframe\">\n",
       "  <thead>\n",
       "    <tr style=\"text-align: right;\">\n",
       "      <th></th>\n",
       "      <th>coef</th>\n",
       "      <th>std err</th>\n",
       "      <th>t</th>\n",
       "      <th>P&gt;|t|</th>\n",
       "      <th>[0.025</th>\n",
       "      <th>0.975]</th>\n",
       "    </tr>\n",
       "  </thead>\n",
       "  <tbody>\n",
       "    <tr>\n",
       "      <th>Intercept</th>\n",
       "      <td>-2.723000e+06</td>\n",
       "      <td>225000.000</td>\n",
       "      <td>-12.095</td>\n",
       "      <td>0.0</td>\n",
       "      <td>-3160000.000</td>\n",
       "      <td>-2280000.000</td>\n",
       "    </tr>\n",
       "    <tr>\n",
       "      <th>year</th>\n",
       "      <td>9.391612e+02</td>\n",
       "      <td>77.975</td>\n",
       "      <td>12.044</td>\n",
       "      <td>0.0</td>\n",
       "      <td>786.258</td>\n",
       "      <td>1092.064</td>\n",
       "    </tr>\n",
       "    <tr>\n",
       "      <th>mileage</th>\n",
       "      <td>-4.690000e-02</td>\n",
       "      <td>0.004</td>\n",
       "      <td>-10.481</td>\n",
       "      <td>0.0</td>\n",
       "      <td>-0.056</td>\n",
       "      <td>-0.038</td>\n",
       "    </tr>\n",
       "    <tr>\n",
       "      <th>lot</th>\n",
       "      <td>5.100000e-03</td>\n",
       "      <td>0.001</td>\n",
       "      <td>4.748</td>\n",
       "      <td>0.0</td>\n",
       "      <td>0.003</td>\n",
       "      <td>0.007</td>\n",
       "    </tr>\n",
       "  </tbody>\n",
       "</table>\n",
       "</div>"
      ],
      "text/plain": [
       "                   coef     std err       t  P>|t|       [0.025       0.975]\n",
       "Intercept -2.723000e+06  225000.000 -12.095    0.0 -3160000.000 -2280000.000\n",
       "year       9.391612e+02      77.975  12.044    0.0      786.258     1092.064\n",
       "mileage   -4.690000e-02       0.004 -10.481    0.0       -0.056       -0.038\n",
       "lot        5.100000e-03       0.001   4.748    0.0        0.003        0.007"
      ]
     },
     "execution_count": 37,
     "metadata": {},
     "output_type": "execute_result"
    }
   ],
   "source": [
    "import statsmodels.formula.api as smf\n",
    "mode1 = smf.ols('price~year+mileage+lot', df1).fit()\n",
    "mod_1_summary = mode1.summary()\n",
    "print(mod_1_summary)\n",
    "\n",
    "mod1_htm = mod_1_summary.tables[1].as_html()\n",
    "pd.read_html(mod1_htm, header=0, index_col=0)[0]\n",
    "\n",
    "\n",
    "# With an Adj. R-squared: of 0.217, means that our model was able to explain 22% of the total variation in car price.\n",
    "# year, mileage and lot were significant at 5% level of significance, considering their frespective p-values which were all less than 0.05\n"
   ]
  },
  {
   "cell_type": "code",
   "execution_count": 38,
   "metadata": {},
   "outputs": [
    {
     "data": {
      "text/html": [
       "<div>\n",
       "<style scoped>\n",
       "    .dataframe tbody tr th:only-of-type {\n",
       "        vertical-align: middle;\n",
       "    }\n",
       "\n",
       "    .dataframe tbody tr th {\n",
       "        vertical-align: top;\n",
       "    }\n",
       "\n",
       "    .dataframe thead th {\n",
       "        text-align: right;\n",
       "    }\n",
       "</style>\n",
       "<table border=\"1\" class=\"dataframe\">\n",
       "  <thead>\n",
       "    <tr style=\"text-align: right;\">\n",
       "      <th></th>\n",
       "      <th>price</th>\n",
       "      <th>brand</th>\n",
       "      <th>model</th>\n",
       "      <th>year</th>\n",
       "      <th>title_status</th>\n",
       "      <th>mileage</th>\n",
       "      <th>color</th>\n",
       "      <th>lot</th>\n",
       "      <th>state</th>\n",
       "      <th>lot_poly</th>\n",
       "      <th>year_poly</th>\n",
       "      <th>mileage_poly</th>\n",
       "      <th>lot_yr</th>\n",
       "      <th>lot_mil</th>\n",
       "      <th>mil_yr</th>\n",
       "      <th>lot_yr_mil</th>\n",
       "    </tr>\n",
       "  </thead>\n",
       "  <tbody>\n",
       "    <tr>\n",
       "      <th>0</th>\n",
       "      <td>6300</td>\n",
       "      <td>toyota</td>\n",
       "      <td>cruiser</td>\n",
       "      <td>2008</td>\n",
       "      <td>clean vehicle</td>\n",
       "      <td>274117.0</td>\n",
       "      <td>black</td>\n",
       "      <td>159348797</td>\n",
       "      <td>new jersey</td>\n",
       "      <td>25392039105347209</td>\n",
       "      <td>4032064</td>\n",
       "      <td>7.514013e+10</td>\n",
       "      <td>319972384376</td>\n",
       "      <td>4.368021e+13</td>\n",
       "      <td>550426936.0</td>\n",
       "      <td>8.770987e+16</td>\n",
       "    </tr>\n",
       "    <tr>\n",
       "      <th>1</th>\n",
       "      <td>2899</td>\n",
       "      <td>ford</td>\n",
       "      <td>se</td>\n",
       "      <td>2011</td>\n",
       "      <td>clean vehicle</td>\n",
       "      <td>190552.0</td>\n",
       "      <td>silver</td>\n",
       "      <td>166951262</td>\n",
       "      <td>tennessee</td>\n",
       "      <td>27872723883392644</td>\n",
       "      <td>4044121</td>\n",
       "      <td>3.631006e+10</td>\n",
       "      <td>335738987882</td>\n",
       "      <td>3.181290e+13</td>\n",
       "      <td>383200072.0</td>\n",
       "      <td>6.397574e+16</td>\n",
       "    </tr>\n",
       "    <tr>\n",
       "      <th>2</th>\n",
       "      <td>5350</td>\n",
       "      <td>dodge</td>\n",
       "      <td>mpv</td>\n",
       "      <td>2018</td>\n",
       "      <td>clean vehicle</td>\n",
       "      <td>39590.0</td>\n",
       "      <td>silver</td>\n",
       "      <td>167655728</td>\n",
       "      <td>georgia</td>\n",
       "      <td>28108443131209984</td>\n",
       "      <td>4072324</td>\n",
       "      <td>1.567368e+09</td>\n",
       "      <td>338329259104</td>\n",
       "      <td>6.637490e+12</td>\n",
       "      <td>79892620.0</td>\n",
       "      <td>1.339446e+16</td>\n",
       "    </tr>\n",
       "    <tr>\n",
       "      <th>3</th>\n",
       "      <td>25000</td>\n",
       "      <td>ford</td>\n",
       "      <td>door</td>\n",
       "      <td>2014</td>\n",
       "      <td>clean vehicle</td>\n",
       "      <td>64146.0</td>\n",
       "      <td>blue</td>\n",
       "      <td>167753855</td>\n",
       "      <td>virginia</td>\n",
       "      <td>28141355867361025</td>\n",
       "      <td>4056196</td>\n",
       "      <td>4.114709e+09</td>\n",
       "      <td>337856263970</td>\n",
       "      <td>1.076074e+13</td>\n",
       "      <td>129190044.0</td>\n",
       "      <td>2.167213e+16</td>\n",
       "    </tr>\n",
       "    <tr>\n",
       "      <th>4</th>\n",
       "      <td>27700</td>\n",
       "      <td>chevrolet</td>\n",
       "      <td>1500</td>\n",
       "      <td>2018</td>\n",
       "      <td>clean vehicle</td>\n",
       "      <td>6654.0</td>\n",
       "      <td>red</td>\n",
       "      <td>167763266</td>\n",
       "      <td>florida</td>\n",
       "      <td>28144513418986756</td>\n",
       "      <td>4072324</td>\n",
       "      <td>4.427572e+07</td>\n",
       "      <td>338546270788</td>\n",
       "      <td>1.116297e+12</td>\n",
       "      <td>13427772.0</td>\n",
       "      <td>2.252687e+15</td>\n",
       "    </tr>\n",
       "  </tbody>\n",
       "</table>\n",
       "</div>"
      ],
      "text/plain": [
       "   price      brand    model  year   title_status   mileage   color  \\\n",
       "0   6300     toyota  cruiser  2008  clean vehicle  274117.0   black   \n",
       "1   2899       ford       se  2011  clean vehicle  190552.0  silver   \n",
       "2   5350      dodge      mpv  2018  clean vehicle   39590.0  silver   \n",
       "3  25000       ford     door  2014  clean vehicle   64146.0    blue   \n",
       "4  27700  chevrolet     1500  2018  clean vehicle    6654.0     red   \n",
       "\n",
       "         lot       state           lot_poly  year_poly  mileage_poly  \\\n",
       "0  159348797  new jersey  25392039105347209    4032064  7.514013e+10   \n",
       "1  166951262   tennessee  27872723883392644    4044121  3.631006e+10   \n",
       "2  167655728     georgia  28108443131209984    4072324  1.567368e+09   \n",
       "3  167753855    virginia  28141355867361025    4056196  4.114709e+09   \n",
       "4  167763266     florida  28144513418986756    4072324  4.427572e+07   \n",
       "\n",
       "         lot_yr       lot_mil       mil_yr    lot_yr_mil  \n",
       "0  319972384376  4.368021e+13  550426936.0  8.770987e+16  \n",
       "1  335738987882  3.181290e+13  383200072.0  6.397574e+16  \n",
       "2  338329259104  6.637490e+12   79892620.0  1.339446e+16  \n",
       "3  337856263970  1.076074e+13  129190044.0  2.167213e+16  \n",
       "4  338546270788  1.116297e+12   13427772.0  2.252687e+15  "
      ]
     },
     "execution_count": 38,
     "metadata": {},
     "output_type": "execute_result"
    }
   ],
   "source": [
    "dp1 = df1.assign(lot_poly = (df1['lot']**2))\n",
    "dp1 = dp1.assign(year_poly = (dp1['year']**2))\n",
    "dp1 = dp1.assign(mileage_poly = (dp1['mileage']**2))\n",
    "dp1 = dp1.assign(lot_yr = (dp1['lot']*dp1['year']))\n",
    "dp1 = dp1.assign(lot_mil = (dp1['lot']*dp1['mileage']))\n",
    "dp1 = dp1.assign(mil_yr = (dp1['mileage']*dp1['year']))\n",
    "dp1 = dp1.assign(lot_yr_mil = (dp1['lot']*dp1['year']*dp1['mileage']))\n",
    "dp1.head()\n",
    "\n",
    "\n",
    "\n"
   ]
  },
  {
   "cell_type": "code",
   "execution_count": 39,
   "metadata": {},
   "outputs": [
    {
     "name": "stdout",
     "output_type": "stream",
     "text": [
      "                            OLS Regression Results                            \n",
      "==============================================================================\n",
      "Dep. Variable:                  price   R-squared:                       0.293\n",
      "Model:                            OLS   Adj. R-squared:                  0.291\n",
      "Method:                 Least Squares   F-statistic:                     171.9\n",
      "Date:                Sun, 12 Dec 2021   Prob (F-statistic):          2.84e-183\n",
      "Time:                        08:00:07   Log-Likelihood:                -26609.\n",
      "No. Observations:                2499   AIC:                         5.323e+04\n",
      "Df Residuals:                    2492   BIC:                         5.327e+04\n",
      "Df Model:                           6                                         \n",
      "Covariance Type:            nonrobust                                         \n",
      "================================================================================\n",
      "                   coef    std err          t      P>|t|      [0.025      0.975]\n",
      "--------------------------------------------------------------------------------\n",
      "Intercept     1.704e-06   4.77e-07      3.575      0.000     7.7e-07    2.64e-06\n",
      "year             0.0041      0.001      3.576      0.000       0.002       0.006\n",
      "mileage         -0.0004     0.0001     -3.541      0.000      -0.001      -0.000\n",
      "lot             -0.0333      0.002    -13.950      0.000      -0.038      -0.029\n",
      "lot_poly      2.188e-09   5.73e-10      3.819      0.000    1.06e-09    3.31e-09\n",
      "year_poly       14.2415      3.982      3.576      0.000       6.432      22.051\n",
      "mileage_poly  8.497e-08   1.01e-08      8.438      0.000    6.52e-08    1.05e-07\n",
      "lot_yr          -0.0003   9.54e-05     -3.527      0.000      -0.001      -0.000\n",
      "lot_mil       5.257e-08   9.32e-09      5.639      0.000    3.43e-08    7.09e-08\n",
      "mil_yr           0.0022      0.002      1.438      0.151      -0.001       0.005\n",
      "lot_yr_mil   -3.963e-11   9.63e-12     -4.117      0.000   -5.85e-11   -2.08e-11\n",
      "==============================================================================\n",
      "Omnibus:                      504.036   Durbin-Watson:                   1.628\n",
      "Prob(Omnibus):                  0.000   Jarque-Bera (JB):             1070.819\n",
      "Skew:                           1.162   Prob(JB):                    2.98e-233\n",
      "Kurtosis:                       5.209   Cond. No.                     7.18e+22\n",
      "==============================================================================\n",
      "\n",
      "Notes:\n",
      "[1] Standard Errors assume that the covariance matrix of the errors is correctly specified.\n",
      "[2] The condition number is large, 7.18e+22. This might indicate that there are\n",
      "strong multicollinearity or other numerical problems.\n"
     ]
    },
    {
     "data": {
      "text/html": [
       "<div>\n",
       "<style scoped>\n",
       "    .dataframe tbody tr th:only-of-type {\n",
       "        vertical-align: middle;\n",
       "    }\n",
       "\n",
       "    .dataframe tbody tr th {\n",
       "        vertical-align: top;\n",
       "    }\n",
       "\n",
       "    .dataframe thead th {\n",
       "        text-align: right;\n",
       "    }\n",
       "</style>\n",
       "<table border=\"1\" class=\"dataframe\">\n",
       "  <thead>\n",
       "    <tr style=\"text-align: right;\">\n",
       "      <th></th>\n",
       "      <th>coef</th>\n",
       "      <th>std err</th>\n",
       "      <th>t</th>\n",
       "      <th>P&gt;|t|</th>\n",
       "      <th>[0.025</th>\n",
       "      <th>0.975]</th>\n",
       "    </tr>\n",
       "  </thead>\n",
       "  <tbody>\n",
       "    <tr>\n",
       "      <th>Intercept</th>\n",
       "      <td>1.704000e-06</td>\n",
       "      <td>4.770000e-07</td>\n",
       "      <td>3.575</td>\n",
       "      <td>0.000</td>\n",
       "      <td>7.700000e-07</td>\n",
       "      <td>2.640000e-06</td>\n",
       "    </tr>\n",
       "    <tr>\n",
       "      <th>year</th>\n",
       "      <td>4.100000e-03</td>\n",
       "      <td>1.000000e-03</td>\n",
       "      <td>3.576</td>\n",
       "      <td>0.000</td>\n",
       "      <td>2.000000e-03</td>\n",
       "      <td>6.000000e-03</td>\n",
       "    </tr>\n",
       "    <tr>\n",
       "      <th>mileage</th>\n",
       "      <td>-4.000000e-04</td>\n",
       "      <td>1.000000e-04</td>\n",
       "      <td>-3.541</td>\n",
       "      <td>0.000</td>\n",
       "      <td>-1.000000e-03</td>\n",
       "      <td>-0.000000e+00</td>\n",
       "    </tr>\n",
       "    <tr>\n",
       "      <th>lot</th>\n",
       "      <td>-3.330000e-02</td>\n",
       "      <td>2.000000e-03</td>\n",
       "      <td>-13.950</td>\n",
       "      <td>0.000</td>\n",
       "      <td>-3.800000e-02</td>\n",
       "      <td>-2.900000e-02</td>\n",
       "    </tr>\n",
       "    <tr>\n",
       "      <th>lot_poly</th>\n",
       "      <td>2.188000e-09</td>\n",
       "      <td>5.730000e-10</td>\n",
       "      <td>3.819</td>\n",
       "      <td>0.000</td>\n",
       "      <td>1.060000e-09</td>\n",
       "      <td>3.310000e-09</td>\n",
       "    </tr>\n",
       "    <tr>\n",
       "      <th>year_poly</th>\n",
       "      <td>1.424150e+01</td>\n",
       "      <td>3.982000e+00</td>\n",
       "      <td>3.576</td>\n",
       "      <td>0.000</td>\n",
       "      <td>6.432000e+00</td>\n",
       "      <td>2.205100e+01</td>\n",
       "    </tr>\n",
       "    <tr>\n",
       "      <th>mileage_poly</th>\n",
       "      <td>8.497000e-08</td>\n",
       "      <td>1.010000e-08</td>\n",
       "      <td>8.438</td>\n",
       "      <td>0.000</td>\n",
       "      <td>6.520000e-08</td>\n",
       "      <td>1.050000e-07</td>\n",
       "    </tr>\n",
       "    <tr>\n",
       "      <th>lot_yr</th>\n",
       "      <td>-3.000000e-04</td>\n",
       "      <td>9.540000e-05</td>\n",
       "      <td>-3.527</td>\n",
       "      <td>0.000</td>\n",
       "      <td>-1.000000e-03</td>\n",
       "      <td>-0.000000e+00</td>\n",
       "    </tr>\n",
       "    <tr>\n",
       "      <th>lot_mil</th>\n",
       "      <td>5.257000e-08</td>\n",
       "      <td>9.320000e-09</td>\n",
       "      <td>5.639</td>\n",
       "      <td>0.000</td>\n",
       "      <td>3.430000e-08</td>\n",
       "      <td>7.090000e-08</td>\n",
       "    </tr>\n",
       "    <tr>\n",
       "      <th>mil_yr</th>\n",
       "      <td>2.200000e-03</td>\n",
       "      <td>2.000000e-03</td>\n",
       "      <td>1.438</td>\n",
       "      <td>0.151</td>\n",
       "      <td>-1.000000e-03</td>\n",
       "      <td>5.000000e-03</td>\n",
       "    </tr>\n",
       "    <tr>\n",
       "      <th>lot_yr_mil</th>\n",
       "      <td>-3.963000e-11</td>\n",
       "      <td>9.630000e-12</td>\n",
       "      <td>-4.117</td>\n",
       "      <td>0.000</td>\n",
       "      <td>-5.850000e-11</td>\n",
       "      <td>-2.080000e-11</td>\n",
       "    </tr>\n",
       "  </tbody>\n",
       "</table>\n",
       "</div>"
      ],
      "text/plain": [
       "                      coef       std err       t  P>|t|        [0.025  \\\n",
       "Intercept     1.704000e-06  4.770000e-07   3.575  0.000  7.700000e-07   \n",
       "year          4.100000e-03  1.000000e-03   3.576  0.000  2.000000e-03   \n",
       "mileage      -4.000000e-04  1.000000e-04  -3.541  0.000 -1.000000e-03   \n",
       "lot          -3.330000e-02  2.000000e-03 -13.950  0.000 -3.800000e-02   \n",
       "lot_poly      2.188000e-09  5.730000e-10   3.819  0.000  1.060000e-09   \n",
       "year_poly     1.424150e+01  3.982000e+00   3.576  0.000  6.432000e+00   \n",
       "mileage_poly  8.497000e-08  1.010000e-08   8.438  0.000  6.520000e-08   \n",
       "lot_yr       -3.000000e-04  9.540000e-05  -3.527  0.000 -1.000000e-03   \n",
       "lot_mil       5.257000e-08  9.320000e-09   5.639  0.000  3.430000e-08   \n",
       "mil_yr        2.200000e-03  2.000000e-03   1.438  0.151 -1.000000e-03   \n",
       "lot_yr_mil   -3.963000e-11  9.630000e-12  -4.117  0.000 -5.850000e-11   \n",
       "\n",
       "                    0.975]  \n",
       "Intercept     2.640000e-06  \n",
       "year          6.000000e-03  \n",
       "mileage      -0.000000e+00  \n",
       "lot          -2.900000e-02  \n",
       "lot_poly      3.310000e-09  \n",
       "year_poly     2.205100e+01  \n",
       "mileage_poly  1.050000e-07  \n",
       "lot_yr       -0.000000e+00  \n",
       "lot_mil       7.090000e-08  \n",
       "mil_yr        5.000000e-03  \n",
       "lot_yr_mil   -2.080000e-11  "
      ]
     },
     "execution_count": 39,
     "metadata": {},
     "output_type": "execute_result"
    }
   ],
   "source": [
    "#b) Polynomial Regression\n",
    "mode2 = smf.ols('price~year+mileage+lot+lot_poly+year_poly+mileage_poly+lot_yr+lot_mil+mil_yr+lot_yr_mil', dp1).fit()\n",
    "mod_2_summary = mode2.summary()\n",
    "print(mod_2_summary)\n",
    "\n",
    "mod2_htm = mod_2_summary.tables[1].as_html()\n",
    "pd.read_html(mod2_htm, header=0, index_col=0)[0]\n",
    "\n",
    "\n",
    "# With an Adj. R-squared: of 0.291, means that our model was able to explain 29% of the total variation in car price.\n",
    "# year_poly, mileage_poly and lot_poly were significant at 5% level of significance, considering their frespective p-values \n",
    "# which were all less than 0.05\n",
    "\n",
    "\n"
   ]
  },
  {
   "cell_type": "code",
   "execution_count": null,
   "metadata": {},
   "outputs": [],
   "source": [
    "# Model Validation\n",
    "\n",
    "# Adjusted R-square for model 1 (Linear Regression) = 0.217\n",
    "# Adjusted R-square for model 2 (Polynomial Regression) = 0.291\n",
    "# Comparing Model 1 and Model 2, We may choose to go with the polinomial Regression based on their respective Adjusted R-square"
   ]
  },
  {
   "cell_type": "code",
   "execution_count": 378,
   "metadata": {},
   "outputs": [],
   "source": [
    "\n",
    "#Thank you"
   ]
  },
  {
   "cell_type": "code",
   "execution_count": null,
   "metadata": {},
   "outputs": [],
   "source": []
  }
 ],
 "metadata": {
  "kernelspec": {
   "display_name": "Python 3",
   "language": "python",
   "name": "python3"
  },
  "language_info": {
   "codemirror_mode": {
    "name": "ipython",
    "version": 3
   },
   "file_extension": ".py",
   "mimetype": "text/x-python",
   "name": "python",
   "nbconvert_exporter": "python",
   "pygments_lexer": "ipython3",
   "version": "3.8.5"
  }
 },
 "nbformat": 4,
 "nbformat_minor": 4
}
